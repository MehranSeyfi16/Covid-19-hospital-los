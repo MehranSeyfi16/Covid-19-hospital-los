{
 "cells": [
  {
   "cell_type": "markdown",
   "id": "2bdf9f99-0934-426a-abb6-68a0932b1c55",
   "metadata": {},
   "source": [
    "# Full Pipeline Practice (Covid-19 Hospital los)"
   ]
  },
  {
   "cell_type": "markdown",
   "id": "10f86324-6b4e-4226-9e4a-f45cceac984b",
   "metadata": {},
   "source": [
    "## Imports"
   ]
  },
  {
   "cell_type": "code",
   "execution_count": 129,
   "id": "1196ab95-72cf-43c8-aea9-1c8924e563bd",
   "metadata": {},
   "outputs": [],
   "source": [
    "from sklearn.linear_model import LinearRegression\n",
    "from sklearn.model_selection import train_test_split\n",
    "from sklearn.preprocessing import PolynomialFeatures\n",
    "from sklearn import linear_model\n",
    "import matplotlib.pyplot as plt\n",
    "import statsmodels.api as sm\n",
    "import numpy as np\n",
    "import pandas as pd\n",
    "import pylab as pl\n",
    "import seaborn as sns\n",
    "from sklearn.preprocessing import LabelEncoder, OneHotEncoder, OrdinalEncoder\n",
    "from sklearn.metrics import confusion_matrix, roc_auc_score ,roc_curve,auc, ConfusionMatrixDisplay \n",
    "import sys, os\n",
    "%matplotlib inline \n",
    "\n",
    "if not sys.warnoptions:\n",
    "    import warnings\n",
    "    warnings.simplefilter(\"ignore\")"
   ]
  },
  {
   "cell_type": "markdown",
   "id": "5ef42ccb-687b-4ddc-a413-42f2b753a3eb",
   "metadata": {},
   "source": [
    "## Reading dataset"
   ]
  },
  {
   "cell_type": "code",
   "execution_count": 130,
   "id": "29657a9a-bf6c-4da3-b68e-33dd3862b71a",
   "metadata": {},
   "outputs": [
    {
     "data": {
      "text/html": [
       "<div>\n",
       "<style scoped>\n",
       "    .dataframe tbody tr th:only-of-type {\n",
       "        vertical-align: middle;\n",
       "    }\n",
       "\n",
       "    .dataframe tbody tr th {\n",
       "        vertical-align: top;\n",
       "    }\n",
       "\n",
       "    .dataframe thead th {\n",
       "        text-align: right;\n",
       "    }\n",
       "</style>\n",
       "<table border=\"1\" class=\"dataframe\">\n",
       "  <thead>\n",
       "    <tr style=\"text-align: right;\">\n",
       "      <th></th>\n",
       "      <th>case_id</th>\n",
       "      <th>Hospital</th>\n",
       "      <th>Hospital_type</th>\n",
       "      <th>Hospital_city</th>\n",
       "      <th>Hospital_region</th>\n",
       "      <th>Available_Extra_Rooms_in_Hospital</th>\n",
       "      <th>Department</th>\n",
       "      <th>Ward_Type</th>\n",
       "      <th>Ward_Facility</th>\n",
       "      <th>Bed_Grade</th>\n",
       "      <th>patientid</th>\n",
       "      <th>City_Code_Patient</th>\n",
       "      <th>Type of Admission</th>\n",
       "      <th>Illness_Severity</th>\n",
       "      <th>Patient_Visitors</th>\n",
       "      <th>Age</th>\n",
       "      <th>Admission_Deposit</th>\n",
       "      <th>Stay_Days</th>\n",
       "    </tr>\n",
       "  </thead>\n",
       "  <tbody>\n",
       "    <tr>\n",
       "      <th>0</th>\n",
       "      <td>1</td>\n",
       "      <td>8</td>\n",
       "      <td>2</td>\n",
       "      <td>3</td>\n",
       "      <td>2</td>\n",
       "      <td>3</td>\n",
       "      <td>radiotherapy</td>\n",
       "      <td>R</td>\n",
       "      <td>F</td>\n",
       "      <td>2.0</td>\n",
       "      <td>31397</td>\n",
       "      <td>7.0</td>\n",
       "      <td>Emergency</td>\n",
       "      <td>Extreme</td>\n",
       "      <td>2</td>\n",
       "      <td>51-60</td>\n",
       "      <td>4911.0</td>\n",
       "      <td>0</td>\n",
       "    </tr>\n",
       "    <tr>\n",
       "      <th>1</th>\n",
       "      <td>2</td>\n",
       "      <td>2</td>\n",
       "      <td>2</td>\n",
       "      <td>5</td>\n",
       "      <td>2</td>\n",
       "      <td>2</td>\n",
       "      <td>radiotherapy</td>\n",
       "      <td>S</td>\n",
       "      <td>F</td>\n",
       "      <td>2.0</td>\n",
       "      <td>31397</td>\n",
       "      <td>7.0</td>\n",
       "      <td>Trauma</td>\n",
       "      <td>Extreme</td>\n",
       "      <td>2</td>\n",
       "      <td>51-60</td>\n",
       "      <td>5954.0</td>\n",
       "      <td>0</td>\n",
       "    </tr>\n",
       "    <tr>\n",
       "      <th>2</th>\n",
       "      <td>3</td>\n",
       "      <td>10</td>\n",
       "      <td>4</td>\n",
       "      <td>1</td>\n",
       "      <td>0</td>\n",
       "      <td>2</td>\n",
       "      <td>anesthesia</td>\n",
       "      <td>S</td>\n",
       "      <td>E</td>\n",
       "      <td>2.0</td>\n",
       "      <td>31397</td>\n",
       "      <td>7.0</td>\n",
       "      <td>Trauma</td>\n",
       "      <td>Extreme</td>\n",
       "      <td>2</td>\n",
       "      <td>51-60</td>\n",
       "      <td>4745.0</td>\n",
       "      <td>0</td>\n",
       "    </tr>\n",
       "    <tr>\n",
       "      <th>3</th>\n",
       "      <td>4</td>\n",
       "      <td>26</td>\n",
       "      <td>1</td>\n",
       "      <td>2</td>\n",
       "      <td>1</td>\n",
       "      <td>2</td>\n",
       "      <td>radiotherapy</td>\n",
       "      <td>R</td>\n",
       "      <td>D</td>\n",
       "      <td>2.0</td>\n",
       "      <td>31397</td>\n",
       "      <td>7.0</td>\n",
       "      <td>Trauma</td>\n",
       "      <td>Extreme</td>\n",
       "      <td>2</td>\n",
       "      <td>51-60</td>\n",
       "      <td>7272.0</td>\n",
       "      <td>0</td>\n",
       "    </tr>\n",
       "    <tr>\n",
       "      <th>4</th>\n",
       "      <td>5</td>\n",
       "      <td>26</td>\n",
       "      <td>1</td>\n",
       "      <td>2</td>\n",
       "      <td>1</td>\n",
       "      <td>2</td>\n",
       "      <td>radiotherapy</td>\n",
       "      <td>S</td>\n",
       "      <td>D</td>\n",
       "      <td>2.0</td>\n",
       "      <td>31397</td>\n",
       "      <td>7.0</td>\n",
       "      <td>Trauma</td>\n",
       "      <td>Extreme</td>\n",
       "      <td>2</td>\n",
       "      <td>51-60</td>\n",
       "      <td>5558.0</td>\n",
       "      <td>0</td>\n",
       "    </tr>\n",
       "    <tr>\n",
       "      <th>...</th>\n",
       "      <td>...</td>\n",
       "      <td>...</td>\n",
       "      <td>...</td>\n",
       "      <td>...</td>\n",
       "      <td>...</td>\n",
       "      <td>...</td>\n",
       "      <td>...</td>\n",
       "      <td>...</td>\n",
       "      <td>...</td>\n",
       "      <td>...</td>\n",
       "      <td>...</td>\n",
       "      <td>...</td>\n",
       "      <td>...</td>\n",
       "      <td>...</td>\n",
       "      <td>...</td>\n",
       "      <td>...</td>\n",
       "      <td>...</td>\n",
       "      <td>...</td>\n",
       "    </tr>\n",
       "    <tr>\n",
       "      <th>29995</th>\n",
       "      <td>29996</td>\n",
       "      <td>12</td>\n",
       "      <td>0</td>\n",
       "      <td>9</td>\n",
       "      <td>1</td>\n",
       "      <td>3</td>\n",
       "      <td>gynecology</td>\n",
       "      <td>Q</td>\n",
       "      <td>B</td>\n",
       "      <td>3.0</td>\n",
       "      <td>29424</td>\n",
       "      <td>8.0</td>\n",
       "      <td>Trauma</td>\n",
       "      <td>Extreme</td>\n",
       "      <td>3</td>\n",
       "      <td>41-50</td>\n",
       "      <td>6039.0</td>\n",
       "      <td>0</td>\n",
       "    </tr>\n",
       "    <tr>\n",
       "      <th>29996</th>\n",
       "      <td>29997</td>\n",
       "      <td>10</td>\n",
       "      <td>4</td>\n",
       "      <td>1</td>\n",
       "      <td>0</td>\n",
       "      <td>2</td>\n",
       "      <td>gynecology</td>\n",
       "      <td>Q</td>\n",
       "      <td>E</td>\n",
       "      <td>4.0</td>\n",
       "      <td>29424</td>\n",
       "      <td>8.0</td>\n",
       "      <td>Trauma</td>\n",
       "      <td>Extreme</td>\n",
       "      <td>4</td>\n",
       "      <td>41-50</td>\n",
       "      <td>7042.0</td>\n",
       "      <td>0</td>\n",
       "    </tr>\n",
       "    <tr>\n",
       "      <th>29997</th>\n",
       "      <td>29998</td>\n",
       "      <td>23</td>\n",
       "      <td>0</td>\n",
       "      <td>6</td>\n",
       "      <td>0</td>\n",
       "      <td>4</td>\n",
       "      <td>TB &amp; Chest disease</td>\n",
       "      <td>Q</td>\n",
       "      <td>F</td>\n",
       "      <td>1.0</td>\n",
       "      <td>29424</td>\n",
       "      <td>8.0</td>\n",
       "      <td>Trauma</td>\n",
       "      <td>Extreme</td>\n",
       "      <td>4</td>\n",
       "      <td>41-50</td>\n",
       "      <td>5573.0</td>\n",
       "      <td>0</td>\n",
       "    </tr>\n",
       "    <tr>\n",
       "      <th>29998</th>\n",
       "      <td>29999</td>\n",
       "      <td>11</td>\n",
       "      <td>1</td>\n",
       "      <td>2</td>\n",
       "      <td>1</td>\n",
       "      <td>3</td>\n",
       "      <td>gynecology</td>\n",
       "      <td>Q</td>\n",
       "      <td>D</td>\n",
       "      <td>4.0</td>\n",
       "      <td>24299</td>\n",
       "      <td>2.0</td>\n",
       "      <td>Trauma</td>\n",
       "      <td>Moderate</td>\n",
       "      <td>2</td>\n",
       "      <td>51-60</td>\n",
       "      <td>5539.0</td>\n",
       "      <td>0</td>\n",
       "    </tr>\n",
       "    <tr>\n",
       "      <th>29999</th>\n",
       "      <td>30000</td>\n",
       "      <td>17</td>\n",
       "      <td>4</td>\n",
       "      <td>1</td>\n",
       "      <td>0</td>\n",
       "      <td>2</td>\n",
       "      <td>TB &amp; Chest disease</td>\n",
       "      <td>R</td>\n",
       "      <td>E</td>\n",
       "      <td>4.0</td>\n",
       "      <td>24299</td>\n",
       "      <td>2.0</td>\n",
       "      <td>Trauma</td>\n",
       "      <td>Moderate</td>\n",
       "      <td>3</td>\n",
       "      <td>51-60</td>\n",
       "      <td>4869.0</td>\n",
       "      <td>0</td>\n",
       "    </tr>\n",
       "  </tbody>\n",
       "</table>\n",
       "<p>30000 rows × 18 columns</p>\n",
       "</div>"
      ],
      "text/plain": [
       "       case_id  Hospital  Hospital_type  Hospital_city  Hospital_region  \\\n",
       "0            1         8              2              3                2   \n",
       "1            2         2              2              5                2   \n",
       "2            3        10              4              1                0   \n",
       "3            4        26              1              2                1   \n",
       "4            5        26              1              2                1   \n",
       "...        ...       ...            ...            ...              ...   \n",
       "29995    29996        12              0              9                1   \n",
       "29996    29997        10              4              1                0   \n",
       "29997    29998        23              0              6                0   \n",
       "29998    29999        11              1              2                1   \n",
       "29999    30000        17              4              1                0   \n",
       "\n",
       "       Available_Extra_Rooms_in_Hospital          Department Ward_Type  \\\n",
       "0                                      3        radiotherapy         R   \n",
       "1                                      2        radiotherapy         S   \n",
       "2                                      2          anesthesia         S   \n",
       "3                                      2        radiotherapy         R   \n",
       "4                                      2        radiotherapy         S   \n",
       "...                                  ...                 ...       ...   \n",
       "29995                                  3          gynecology         Q   \n",
       "29996                                  2          gynecology         Q   \n",
       "29997                                  4  TB & Chest disease         Q   \n",
       "29998                                  3          gynecology         Q   \n",
       "29999                                  2  TB & Chest disease         R   \n",
       "\n",
       "      Ward_Facility  Bed_Grade  patientid  City_Code_Patient  \\\n",
       "0                 F        2.0      31397                7.0   \n",
       "1                 F        2.0      31397                7.0   \n",
       "2                 E        2.0      31397                7.0   \n",
       "3                 D        2.0      31397                7.0   \n",
       "4                 D        2.0      31397                7.0   \n",
       "...             ...        ...        ...                ...   \n",
       "29995             B        3.0      29424                8.0   \n",
       "29996             E        4.0      29424                8.0   \n",
       "29997             F        1.0      29424                8.0   \n",
       "29998             D        4.0      24299                2.0   \n",
       "29999             E        4.0      24299                2.0   \n",
       "\n",
       "      Type of Admission Illness_Severity  Patient_Visitors    Age  \\\n",
       "0             Emergency          Extreme                 2  51-60   \n",
       "1                Trauma          Extreme                 2  51-60   \n",
       "2                Trauma          Extreme                 2  51-60   \n",
       "3                Trauma          Extreme                 2  51-60   \n",
       "4                Trauma          Extreme                 2  51-60   \n",
       "...                 ...              ...               ...    ...   \n",
       "29995            Trauma          Extreme                 3  41-50   \n",
       "29996            Trauma          Extreme                 4  41-50   \n",
       "29997            Trauma          Extreme                 4  41-50   \n",
       "29998            Trauma         Moderate                 2  51-60   \n",
       "29999            Trauma         Moderate                 3  51-60   \n",
       "\n",
       "       Admission_Deposit  Stay_Days  \n",
       "0                 4911.0          0  \n",
       "1                 5954.0          0  \n",
       "2                 4745.0          0  \n",
       "3                 7272.0          0  \n",
       "4                 5558.0          0  \n",
       "...                  ...        ...  \n",
       "29995             6039.0          0  \n",
       "29996             7042.0          0  \n",
       "29997             5573.0          0  \n",
       "29998             5539.0          0  \n",
       "29999             4869.0          0  \n",
       "\n",
       "[30000 rows x 18 columns]"
      ]
     },
     "execution_count": 130,
     "metadata": {},
     "output_type": "execute_result"
    }
   ],
   "source": [
    "df = pd.read_csv('host_los.csv')\n",
    "df = df.head(30000) # Do this to eplore over data faster.\n",
    "df"
   ]
  },
  {
   "cell_type": "markdown",
   "id": "67c5b8b2-0c54-48e3-bc0d-38e41af82715",
   "metadata": {},
   "source": [
    "## EDA"
   ]
  },
  {
   "cell_type": "code",
   "execution_count": 131,
   "id": "b1c5e5db-40f5-4a8b-9278-b51c5347ea8a",
   "metadata": {},
   "outputs": [
    {
     "data": {
      "text/html": [
       "<div>\n",
       "<style scoped>\n",
       "    .dataframe tbody tr th:only-of-type {\n",
       "        vertical-align: middle;\n",
       "    }\n",
       "\n",
       "    .dataframe tbody tr th {\n",
       "        vertical-align: top;\n",
       "    }\n",
       "\n",
       "    .dataframe thead th {\n",
       "        text-align: right;\n",
       "    }\n",
       "</style>\n",
       "<table border=\"1\" class=\"dataframe\">\n",
       "  <thead>\n",
       "    <tr style=\"text-align: right;\">\n",
       "      <th></th>\n",
       "      <th>case_id</th>\n",
       "      <th>Hospital</th>\n",
       "      <th>Hospital_type</th>\n",
       "      <th>Hospital_city</th>\n",
       "      <th>Hospital_region</th>\n",
       "      <th>Available_Extra_Rooms_in_Hospital</th>\n",
       "      <th>Bed_Grade</th>\n",
       "      <th>patientid</th>\n",
       "      <th>City_Code_Patient</th>\n",
       "      <th>Patient_Visitors</th>\n",
       "      <th>Admission_Deposit</th>\n",
       "      <th>Stay_Days</th>\n",
       "    </tr>\n",
       "  </thead>\n",
       "  <tbody>\n",
       "    <tr>\n",
       "      <th>count</th>\n",
       "      <td>30000.000000</td>\n",
       "      <td>30000.000000</td>\n",
       "      <td>30000.000000</td>\n",
       "      <td>30000.000000</td>\n",
       "      <td>30000.000000</td>\n",
       "      <td>30000.000000</td>\n",
       "      <td>29994.000000</td>\n",
       "      <td>30000.000000</td>\n",
       "      <td>29729.000000</td>\n",
       "      <td>30000.000000</td>\n",
       "      <td>30000.000000</td>\n",
       "      <td>30000.000000</td>\n",
       "    </tr>\n",
       "    <tr>\n",
       "      <th>mean</th>\n",
       "      <td>15000.500000</td>\n",
       "      <td>18.799933</td>\n",
       "      <td>1.313233</td>\n",
       "      <td>4.790333</td>\n",
       "      <td>0.785233</td>\n",
       "      <td>3.101300</td>\n",
       "      <td>2.650363</td>\n",
       "      <td>65602.843900</td>\n",
       "      <td>6.998015</td>\n",
       "      <td>3.236467</td>\n",
       "      <td>4977.433700</td>\n",
       "      <td>0.022133</td>\n",
       "    </tr>\n",
       "    <tr>\n",
       "      <th>std</th>\n",
       "      <td>8660.398374</td>\n",
       "      <td>8.619361</td>\n",
       "      <td>1.561025</td>\n",
       "      <td>3.153871</td>\n",
       "      <td>0.741391</td>\n",
       "      <td>1.137811</td>\n",
       "      <td>0.859720</td>\n",
       "      <td>37872.131267</td>\n",
       "      <td>4.270840</td>\n",
       "      <td>1.743727</td>\n",
       "      <td>1050.575072</td>\n",
       "      <td>0.147120</td>\n",
       "    </tr>\n",
       "    <tr>\n",
       "      <th>min</th>\n",
       "      <td>1.000000</td>\n",
       "      <td>1.000000</td>\n",
       "      <td>0.000000</td>\n",
       "      <td>1.000000</td>\n",
       "      <td>0.000000</td>\n",
       "      <td>0.000000</td>\n",
       "      <td>1.000000</td>\n",
       "      <td>70.000000</td>\n",
       "      <td>1.000000</td>\n",
       "      <td>0.000000</td>\n",
       "      <td>1820.000000</td>\n",
       "      <td>0.000000</td>\n",
       "    </tr>\n",
       "    <tr>\n",
       "      <th>25%</th>\n",
       "      <td>7500.750000</td>\n",
       "      <td>11.000000</td>\n",
       "      <td>0.000000</td>\n",
       "      <td>2.000000</td>\n",
       "      <td>0.000000</td>\n",
       "      <td>2.000000</td>\n",
       "      <td>2.000000</td>\n",
       "      <td>32562.000000</td>\n",
       "      <td>4.000000</td>\n",
       "      <td>2.000000</td>\n",
       "      <td>4307.000000</td>\n",
       "      <td>0.000000</td>\n",
       "    </tr>\n",
       "    <tr>\n",
       "      <th>50%</th>\n",
       "      <td>15000.500000</td>\n",
       "      <td>21.000000</td>\n",
       "      <td>1.000000</td>\n",
       "      <td>5.000000</td>\n",
       "      <td>1.000000</td>\n",
       "      <td>3.000000</td>\n",
       "      <td>3.000000</td>\n",
       "      <td>64969.000000</td>\n",
       "      <td>8.000000</td>\n",
       "      <td>3.000000</td>\n",
       "      <td>4851.000000</td>\n",
       "      <td>0.000000</td>\n",
       "    </tr>\n",
       "    <tr>\n",
       "      <th>75%</th>\n",
       "      <td>22500.250000</td>\n",
       "      <td>26.000000</td>\n",
       "      <td>2.000000</td>\n",
       "      <td>7.000000</td>\n",
       "      <td>1.000000</td>\n",
       "      <td>4.000000</td>\n",
       "      <td>3.000000</td>\n",
       "      <td>97933.000000</td>\n",
       "      <td>8.000000</td>\n",
       "      <td>4.000000</td>\n",
       "      <td>5494.000000</td>\n",
       "      <td>0.000000</td>\n",
       "    </tr>\n",
       "    <tr>\n",
       "      <th>max</th>\n",
       "      <td>30000.000000</td>\n",
       "      <td>32.000000</td>\n",
       "      <td>6.000000</td>\n",
       "      <td>13.000000</td>\n",
       "      <td>2.000000</td>\n",
       "      <td>12.000000</td>\n",
       "      <td>4.000000</td>\n",
       "      <td>131595.000000</td>\n",
       "      <td>37.000000</td>\n",
       "      <td>24.000000</td>\n",
       "      <td>10999.000000</td>\n",
       "      <td>1.000000</td>\n",
       "    </tr>\n",
       "  </tbody>\n",
       "</table>\n",
       "</div>"
      ],
      "text/plain": [
       "            case_id      Hospital  Hospital_type  Hospital_city  \\\n",
       "count  30000.000000  30000.000000   30000.000000   30000.000000   \n",
       "mean   15000.500000     18.799933       1.313233       4.790333   \n",
       "std     8660.398374      8.619361       1.561025       3.153871   \n",
       "min        1.000000      1.000000       0.000000       1.000000   \n",
       "25%     7500.750000     11.000000       0.000000       2.000000   \n",
       "50%    15000.500000     21.000000       1.000000       5.000000   \n",
       "75%    22500.250000     26.000000       2.000000       7.000000   \n",
       "max    30000.000000     32.000000       6.000000      13.000000   \n",
       "\n",
       "       Hospital_region  Available_Extra_Rooms_in_Hospital     Bed_Grade  \\\n",
       "count     30000.000000                       30000.000000  29994.000000   \n",
       "mean          0.785233                           3.101300      2.650363   \n",
       "std           0.741391                           1.137811      0.859720   \n",
       "min           0.000000                           0.000000      1.000000   \n",
       "25%           0.000000                           2.000000      2.000000   \n",
       "50%           1.000000                           3.000000      3.000000   \n",
       "75%           1.000000                           4.000000      3.000000   \n",
       "max           2.000000                          12.000000      4.000000   \n",
       "\n",
       "           patientid  City_Code_Patient  Patient_Visitors  Admission_Deposit  \\\n",
       "count   30000.000000       29729.000000      30000.000000       30000.000000   \n",
       "mean    65602.843900           6.998015          3.236467        4977.433700   \n",
       "std     37872.131267           4.270840          1.743727        1050.575072   \n",
       "min        70.000000           1.000000          0.000000        1820.000000   \n",
       "25%     32562.000000           4.000000          2.000000        4307.000000   \n",
       "50%     64969.000000           8.000000          3.000000        4851.000000   \n",
       "75%     97933.000000           8.000000          4.000000        5494.000000   \n",
       "max    131595.000000          37.000000         24.000000       10999.000000   \n",
       "\n",
       "          Stay_Days  \n",
       "count  30000.000000  \n",
       "mean       0.022133  \n",
       "std        0.147120  \n",
       "min        0.000000  \n",
       "25%        0.000000  \n",
       "50%        0.000000  \n",
       "75%        0.000000  \n",
       "max        1.000000  "
      ]
     },
     "execution_count": 131,
     "metadata": {},
     "output_type": "execute_result"
    }
   ],
   "source": [
    "df.describe()"
   ]
  },
  {
   "cell_type": "code",
   "execution_count": 132,
   "id": "9bd1e9a4-8ca4-46f7-afd4-e499a8a20201",
   "metadata": {},
   "outputs": [
    {
     "data": {
      "text/plain": [
       "(30000, 18)"
      ]
     },
     "execution_count": 132,
     "metadata": {},
     "output_type": "execute_result"
    }
   ],
   "source": [
    "df.shape"
   ]
  },
  {
   "cell_type": "code",
   "execution_count": 133,
   "id": "d576a590-1449-4381-ac1b-4d85d0cf8ab0",
   "metadata": {},
   "outputs": [
    {
     "name": "stdout",
     "output_type": "stream",
     "text": [
      "<class 'pandas.core.frame.DataFrame'>\n",
      "RangeIndex: 30000 entries, 0 to 29999\n",
      "Data columns (total 18 columns):\n",
      " #   Column                             Non-Null Count  Dtype  \n",
      "---  ------                             --------------  -----  \n",
      " 0   case_id                            30000 non-null  int64  \n",
      " 1   Hospital                           30000 non-null  int64  \n",
      " 2   Hospital_type                      30000 non-null  int64  \n",
      " 3   Hospital_city                      30000 non-null  int64  \n",
      " 4   Hospital_region                    30000 non-null  int64  \n",
      " 5   Available_Extra_Rooms_in_Hospital  30000 non-null  int64  \n",
      " 6   Department                         30000 non-null  object \n",
      " 7   Ward_Type                          30000 non-null  object \n",
      " 8   Ward_Facility                      30000 non-null  object \n",
      " 9   Bed_Grade                          29994 non-null  float64\n",
      " 10  patientid                          30000 non-null  int64  \n",
      " 11  City_Code_Patient                  29729 non-null  float64\n",
      " 12  Type of Admission                  30000 non-null  object \n",
      " 13  Illness_Severity                   30000 non-null  object \n",
      " 14  Patient_Visitors                   30000 non-null  int64  \n",
      " 15  Age                                30000 non-null  object \n",
      " 16  Admission_Deposit                  30000 non-null  float64\n",
      " 17  Stay_Days                          30000 non-null  int64  \n",
      "dtypes: float64(3), int64(9), object(6)\n",
      "memory usage: 4.1+ MB\n"
     ]
    }
   ],
   "source": [
    "df.info()"
   ]
  },
  {
   "cell_type": "code",
   "execution_count": 134,
   "id": "82cac7e2-5b9c-46e7-8d69-01e3385da162",
   "metadata": {},
   "outputs": [
    {
     "data": {
      "text/plain": [
       "<AxesSubplot:xlabel='Stay_Days', ylabel='count'>"
      ]
     },
     "execution_count": 134,
     "metadata": {},
     "output_type": "execute_result"
    },
    {
     "data": {
      "image/png": "[encoded data removed]",
      "text/plain": [
       "<Figure size 432x288 with 1 Axes>"
      ]
     },
     "metadata": {
      "needs_background": "light"
     },
     "output_type": "display_data"
    }
   ],
   "source": [
    "sns.countplot(df.Stay_Days)"
   ]
  },
  {
   "cell_type": "markdown",
   "id": "96103219-fa88-4307-b5ed-df792a2a0876",
   "metadata": {},
   "source": [
    "## Data Cleaning"
   ]
  },
  {
   "cell_type": "code",
   "execution_count": 135,
   "id": "62880326-41a1-491f-bc47-aea566a85f15",
   "metadata": {},
   "outputs": [
    {
     "data": {
      "text/html": [
       "<div>\n",
       "<style scoped>\n",
       "    .dataframe tbody tr th:only-of-type {\n",
       "        vertical-align: middle;\n",
       "    }\n",
       "\n",
       "    .dataframe tbody tr th {\n",
       "        vertical-align: top;\n",
       "    }\n",
       "\n",
       "    .dataframe thead th {\n",
       "        text-align: right;\n",
       "    }\n",
       "</style>\n",
       "<table border=\"1\" class=\"dataframe\">\n",
       "  <thead>\n",
       "    <tr style=\"text-align: right;\">\n",
       "      <th></th>\n",
       "      <th>Hospital</th>\n",
       "      <th>Hospital_type</th>\n",
       "      <th>Hospital_city</th>\n",
       "      <th>Hospital_region</th>\n",
       "      <th>Available_Extra_Rooms_in_Hospital</th>\n",
       "      <th>Department</th>\n",
       "      <th>Ward_Type</th>\n",
       "      <th>Ward_Facility</th>\n",
       "      <th>Bed_Grade</th>\n",
       "      <th>patientid</th>\n",
       "      <th>City_Code_Patient</th>\n",
       "      <th>Type of Admission</th>\n",
       "      <th>Illness_Severity</th>\n",
       "      <th>Patient_Visitors</th>\n",
       "      <th>Age</th>\n",
       "      <th>Admission_Deposit</th>\n",
       "      <th>Stay_Days</th>\n",
       "    </tr>\n",
       "  </thead>\n",
       "  <tbody>\n",
       "    <tr>\n",
       "      <th>0</th>\n",
       "      <td>8</td>\n",
       "      <td>2</td>\n",
       "      <td>3</td>\n",
       "      <td>2</td>\n",
       "      <td>3</td>\n",
       "      <td>radiotherapy</td>\n",
       "      <td>R</td>\n",
       "      <td>F</td>\n",
       "      <td>2.0</td>\n",
       "      <td>31397</td>\n",
       "      <td>7.0</td>\n",
       "      <td>Emergency</td>\n",
       "      <td>Extreme</td>\n",
       "      <td>2</td>\n",
       "      <td>51-60</td>\n",
       "      <td>4911.0</td>\n",
       "      <td>0</td>\n",
       "    </tr>\n",
       "    <tr>\n",
       "      <th>1</th>\n",
       "      <td>2</td>\n",
       "      <td>2</td>\n",
       "      <td>5</td>\n",
       "      <td>2</td>\n",
       "      <td>2</td>\n",
       "      <td>radiotherapy</td>\n",
       "      <td>S</td>\n",
       "      <td>F</td>\n",
       "      <td>2.0</td>\n",
       "      <td>31397</td>\n",
       "      <td>7.0</td>\n",
       "      <td>Trauma</td>\n",
       "      <td>Extreme</td>\n",
       "      <td>2</td>\n",
       "      <td>51-60</td>\n",
       "      <td>5954.0</td>\n",
       "      <td>0</td>\n",
       "    </tr>\n",
       "    <tr>\n",
       "      <th>2</th>\n",
       "      <td>10</td>\n",
       "      <td>4</td>\n",
       "      <td>1</td>\n",
       "      <td>0</td>\n",
       "      <td>2</td>\n",
       "      <td>anesthesia</td>\n",
       "      <td>S</td>\n",
       "      <td>E</td>\n",
       "      <td>2.0</td>\n",
       "      <td>31397</td>\n",
       "      <td>7.0</td>\n",
       "      <td>Trauma</td>\n",
       "      <td>Extreme</td>\n",
       "      <td>2</td>\n",
       "      <td>51-60</td>\n",
       "      <td>4745.0</td>\n",
       "      <td>0</td>\n",
       "    </tr>\n",
       "    <tr>\n",
       "      <th>3</th>\n",
       "      <td>26</td>\n",
       "      <td>1</td>\n",
       "      <td>2</td>\n",
       "      <td>1</td>\n",
       "      <td>2</td>\n",
       "      <td>radiotherapy</td>\n",
       "      <td>R</td>\n",
       "      <td>D</td>\n",
       "      <td>2.0</td>\n",
       "      <td>31397</td>\n",
       "      <td>7.0</td>\n",
       "      <td>Trauma</td>\n",
       "      <td>Extreme</td>\n",
       "      <td>2</td>\n",
       "      <td>51-60</td>\n",
       "      <td>7272.0</td>\n",
       "      <td>0</td>\n",
       "    </tr>\n",
       "    <tr>\n",
       "      <th>4</th>\n",
       "      <td>26</td>\n",
       "      <td>1</td>\n",
       "      <td>2</td>\n",
       "      <td>1</td>\n",
       "      <td>2</td>\n",
       "      <td>radiotherapy</td>\n",
       "      <td>S</td>\n",
       "      <td>D</td>\n",
       "      <td>2.0</td>\n",
       "      <td>31397</td>\n",
       "      <td>7.0</td>\n",
       "      <td>Trauma</td>\n",
       "      <td>Extreme</td>\n",
       "      <td>2</td>\n",
       "      <td>51-60</td>\n",
       "      <td>5558.0</td>\n",
       "      <td>0</td>\n",
       "    </tr>\n",
       "    <tr>\n",
       "      <th>...</th>\n",
       "      <td>...</td>\n",
       "      <td>...</td>\n",
       "      <td>...</td>\n",
       "      <td>...</td>\n",
       "      <td>...</td>\n",
       "      <td>...</td>\n",
       "      <td>...</td>\n",
       "      <td>...</td>\n",
       "      <td>...</td>\n",
       "      <td>...</td>\n",
       "      <td>...</td>\n",
       "      <td>...</td>\n",
       "      <td>...</td>\n",
       "      <td>...</td>\n",
       "      <td>...</td>\n",
       "      <td>...</td>\n",
       "      <td>...</td>\n",
       "    </tr>\n",
       "    <tr>\n",
       "      <th>29995</th>\n",
       "      <td>12</td>\n",
       "      <td>0</td>\n",
       "      <td>9</td>\n",
       "      <td>1</td>\n",
       "      <td>3</td>\n",
       "      <td>gynecology</td>\n",
       "      <td>Q</td>\n",
       "      <td>B</td>\n",
       "      <td>3.0</td>\n",
       "      <td>29424</td>\n",
       "      <td>8.0</td>\n",
       "      <td>Trauma</td>\n",
       "      <td>Extreme</td>\n",
       "      <td>3</td>\n",
       "      <td>41-50</td>\n",
       "      <td>6039.0</td>\n",
       "      <td>0</td>\n",
       "    </tr>\n",
       "    <tr>\n",
       "      <th>29996</th>\n",
       "      <td>10</td>\n",
       "      <td>4</td>\n",
       "      <td>1</td>\n",
       "      <td>0</td>\n",
       "      <td>2</td>\n",
       "      <td>gynecology</td>\n",
       "      <td>Q</td>\n",
       "      <td>E</td>\n",
       "      <td>4.0</td>\n",
       "      <td>29424</td>\n",
       "      <td>8.0</td>\n",
       "      <td>Trauma</td>\n",
       "      <td>Extreme</td>\n",
       "      <td>4</td>\n",
       "      <td>41-50</td>\n",
       "      <td>7042.0</td>\n",
       "      <td>0</td>\n",
       "    </tr>\n",
       "    <tr>\n",
       "      <th>29997</th>\n",
       "      <td>23</td>\n",
       "      <td>0</td>\n",
       "      <td>6</td>\n",
       "      <td>0</td>\n",
       "      <td>4</td>\n",
       "      <td>TB &amp; Chest disease</td>\n",
       "      <td>Q</td>\n",
       "      <td>F</td>\n",
       "      <td>1.0</td>\n",
       "      <td>29424</td>\n",
       "      <td>8.0</td>\n",
       "      <td>Trauma</td>\n",
       "      <td>Extreme</td>\n",
       "      <td>4</td>\n",
       "      <td>41-50</td>\n",
       "      <td>5573.0</td>\n",
       "      <td>0</td>\n",
       "    </tr>\n",
       "    <tr>\n",
       "      <th>29998</th>\n",
       "      <td>11</td>\n",
       "      <td>1</td>\n",
       "      <td>2</td>\n",
       "      <td>1</td>\n",
       "      <td>3</td>\n",
       "      <td>gynecology</td>\n",
       "      <td>Q</td>\n",
       "      <td>D</td>\n",
       "      <td>4.0</td>\n",
       "      <td>24299</td>\n",
       "      <td>2.0</td>\n",
       "      <td>Trauma</td>\n",
       "      <td>Moderate</td>\n",
       "      <td>2</td>\n",
       "      <td>51-60</td>\n",
       "      <td>5539.0</td>\n",
       "      <td>0</td>\n",
       "    </tr>\n",
       "    <tr>\n",
       "      <th>29999</th>\n",
       "      <td>17</td>\n",
       "      <td>4</td>\n",
       "      <td>1</td>\n",
       "      <td>0</td>\n",
       "      <td>2</td>\n",
       "      <td>TB &amp; Chest disease</td>\n",
       "      <td>R</td>\n",
       "      <td>E</td>\n",
       "      <td>4.0</td>\n",
       "      <td>24299</td>\n",
       "      <td>2.0</td>\n",
       "      <td>Trauma</td>\n",
       "      <td>Moderate</td>\n",
       "      <td>3</td>\n",
       "      <td>51-60</td>\n",
       "      <td>4869.0</td>\n",
       "      <td>0</td>\n",
       "    </tr>\n",
       "  </tbody>\n",
       "</table>\n",
       "<p>30000 rows × 17 columns</p>\n",
       "</div>"
      ],
      "text/plain": [
       "       Hospital  Hospital_type  Hospital_city  Hospital_region  \\\n",
       "0             8              2              3                2   \n",
       "1             2              2              5                2   \n",
       "2            10              4              1                0   \n",
       "3            26              1              2                1   \n",
       "4            26              1              2                1   \n",
       "...         ...            ...            ...              ...   \n",
       "29995        12              0              9                1   \n",
       "29996        10              4              1                0   \n",
       "29997        23              0              6                0   \n",
       "29998        11              1              2                1   \n",
       "29999        17              4              1                0   \n",
       "\n",
       "       Available_Extra_Rooms_in_Hospital          Department Ward_Type  \\\n",
       "0                                      3        radiotherapy         R   \n",
       "1                                      2        radiotherapy         S   \n",
       "2                                      2          anesthesia         S   \n",
       "3                                      2        radiotherapy         R   \n",
       "4                                      2        radiotherapy         S   \n",
       "...                                  ...                 ...       ...   \n",
       "29995                                  3          gynecology         Q   \n",
       "29996                                  2          gynecology         Q   \n",
       "29997                                  4  TB & Chest disease         Q   \n",
       "29998                                  3          gynecology         Q   \n",
       "29999                                  2  TB & Chest disease         R   \n",
       "\n",
       "      Ward_Facility  Bed_Grade  patientid  City_Code_Patient  \\\n",
       "0                 F        2.0      31397                7.0   \n",
       "1                 F        2.0      31397                7.0   \n",
       "2                 E        2.0      31397                7.0   \n",
       "3                 D        2.0      31397                7.0   \n",
       "4                 D        2.0      31397                7.0   \n",
       "...             ...        ...        ...                ...   \n",
       "29995             B        3.0      29424                8.0   \n",
       "29996             E        4.0      29424                8.0   \n",
       "29997             F        1.0      29424                8.0   \n",
       "29998             D        4.0      24299                2.0   \n",
       "29999             E        4.0      24299                2.0   \n",
       "\n",
       "      Type of Admission Illness_Severity  Patient_Visitors    Age  \\\n",
       "0             Emergency          Extreme                 2  51-60   \n",
       "1                Trauma          Extreme                 2  51-60   \n",
       "2                Trauma          Extreme                 2  51-60   \n",
       "3                Trauma          Extreme                 2  51-60   \n",
       "4                Trauma          Extreme                 2  51-60   \n",
       "...                 ...              ...               ...    ...   \n",
       "29995            Trauma          Extreme                 3  41-50   \n",
       "29996            Trauma          Extreme                 4  41-50   \n",
       "29997            Trauma          Extreme                 4  41-50   \n",
       "29998            Trauma         Moderate                 2  51-60   \n",
       "29999            Trauma         Moderate                 3  51-60   \n",
       "\n",
       "       Admission_Deposit  Stay_Days  \n",
       "0                 4911.0          0  \n",
       "1                 5954.0          0  \n",
       "2                 4745.0          0  \n",
       "3                 7272.0          0  \n",
       "4                 5558.0          0  \n",
       "...                  ...        ...  \n",
       "29995             6039.0          0  \n",
       "29996             7042.0          0  \n",
       "29997             5573.0          0  \n",
       "29998             5539.0          0  \n",
       "29999             4869.0          0  \n",
       "\n",
       "[30000 rows x 17 columns]"
      ]
     },
     "execution_count": 135,
     "metadata": {},
     "output_type": "execute_result"
    }
   ],
   "source": [
    "df['City_Code_Patient'] = df['City_Code_Patient'].astype(float)\n",
    "df = df.drop(['case_id'], axis=1) # this feature Has no effect on data\n",
    "df"
   ]
  },
  {
   "cell_type": "markdown",
   "id": "80538f9a-aa42-4667-bc3c-711a9eacf053",
   "metadata": {},
   "source": [
    "### Triynig To Find The Class Weight"
   ]
  },
  {
   "cell_type": "code",
   "execution_count": 72,
   "id": "479ef28c-abed-4839-891d-233364d08327",
   "metadata": {},
   "outputs": [
    {
     "name": "stdout",
     "output_type": "stream",
     "text": [
      "Target value counts:\n",
      "0    29336\n",
      "1      664\n",
      "Name: Stay_Days, dtype: int64\n",
      "\n",
      "The ratio of 0 to 1:\n",
      "0    0.977867\n",
      "1    0.022133\n",
      "Name: Stay_Days, dtype: float64\n"
     ]
    }
   ],
   "source": [
    "y = df['Stay_Days']\n",
    "print(f'Target value counts:\\n{y.value_counts()}\\n')\n",
    "print(f'The ratio of 0 to 1:\\n{y.value_counts()/df.shape[0]}')"
   ]
  },
  {
   "cell_type": "code",
   "execution_count": 73,
   "id": "ef1f9fe4-a889-4d35-9abd-1543efe55b45",
   "metadata": {},
   "outputs": [],
   "source": [
    "w = {0:0.977867, 1:0.022133} "
   ]
  },
  {
   "cell_type": "markdown",
   "id": "bb537166-8d6d-488f-b034-17d8ab3e4e2d",
   "metadata": {},
   "source": [
    "## Numerical data distribution"
   ]
  },
  {
   "cell_type": "markdown",
   "id": "1d064c9e-6005-472e-808d-2395e41a127a",
   "metadata": {},
   "source": [
    "#### For this part lets look at the distribution of all of the features by ploting them. To do so lets first list all the types of our data from our dataset and take only the numerical ones"
   ]
  },
  {
   "cell_type": "code",
   "execution_count": 82,
   "id": "35cfdced-bc50-4c4f-b357-1c916a3c023b",
   "metadata": {},
   "outputs": [
    {
     "data": {
      "text/plain": [
       "[dtype('O'), dtype('float64'), dtype('int64')]"
      ]
     },
     "execution_count": 82,
     "metadata": {},
     "output_type": "execute_result"
    }
   ],
   "source": [
    "list(set(df.dtypes.tolist()))"
   ]
  },
  {
   "cell_type": "code",
   "execution_count": 95,
   "id": "8e0fc6f8-bc20-4347-a216-5f5faafbad14",
   "metadata": {},
   "outputs": [
    {
     "data": {
      "text/html": [
       "<div>\n",
       "<style scoped>\n",
       "    .dataframe tbody tr th:only-of-type {\n",
       "        vertical-align: middle;\n",
       "    }\n",
       "\n",
       "    .dataframe tbody tr th {\n",
       "        vertical-align: top;\n",
       "    }\n",
       "\n",
       "    .dataframe thead th {\n",
       "        text-align: right;\n",
       "    }\n",
       "</style>\n",
       "<table border=\"1\" class=\"dataframe\">\n",
       "  <thead>\n",
       "    <tr style=\"text-align: right;\">\n",
       "      <th></th>\n",
       "      <th>Hospital</th>\n",
       "      <th>Hospital_type</th>\n",
       "      <th>Hospital_city</th>\n",
       "      <th>Hospital_region</th>\n",
       "      <th>Available_Extra_Rooms_in_Hospital</th>\n",
       "      <th>Bed_Grade</th>\n",
       "      <th>patientid</th>\n",
       "      <th>City_Code_Patient</th>\n",
       "      <th>Patient_Visitors</th>\n",
       "      <th>Admission_Deposit</th>\n",
       "      <th>Stay_Days</th>\n",
       "    </tr>\n",
       "  </thead>\n",
       "  <tbody>\n",
       "    <tr>\n",
       "      <th>0</th>\n",
       "      <td>8</td>\n",
       "      <td>2</td>\n",
       "      <td>3</td>\n",
       "      <td>2</td>\n",
       "      <td>3</td>\n",
       "      <td>2.0</td>\n",
       "      <td>31397</td>\n",
       "      <td>7.0</td>\n",
       "      <td>2</td>\n",
       "      <td>4911.0</td>\n",
       "      <td>0</td>\n",
       "    </tr>\n",
       "    <tr>\n",
       "      <th>1</th>\n",
       "      <td>2</td>\n",
       "      <td>2</td>\n",
       "      <td>5</td>\n",
       "      <td>2</td>\n",
       "      <td>2</td>\n",
       "      <td>2.0</td>\n",
       "      <td>31397</td>\n",
       "      <td>7.0</td>\n",
       "      <td>2</td>\n",
       "      <td>5954.0</td>\n",
       "      <td>0</td>\n",
       "    </tr>\n",
       "    <tr>\n",
       "      <th>2</th>\n",
       "      <td>10</td>\n",
       "      <td>4</td>\n",
       "      <td>1</td>\n",
       "      <td>0</td>\n",
       "      <td>2</td>\n",
       "      <td>2.0</td>\n",
       "      <td>31397</td>\n",
       "      <td>7.0</td>\n",
       "      <td>2</td>\n",
       "      <td>4745.0</td>\n",
       "      <td>0</td>\n",
       "    </tr>\n",
       "    <tr>\n",
       "      <th>3</th>\n",
       "      <td>26</td>\n",
       "      <td>1</td>\n",
       "      <td>2</td>\n",
       "      <td>1</td>\n",
       "      <td>2</td>\n",
       "      <td>2.0</td>\n",
       "      <td>31397</td>\n",
       "      <td>7.0</td>\n",
       "      <td>2</td>\n",
       "      <td>7272.0</td>\n",
       "      <td>0</td>\n",
       "    </tr>\n",
       "    <tr>\n",
       "      <th>4</th>\n",
       "      <td>26</td>\n",
       "      <td>1</td>\n",
       "      <td>2</td>\n",
       "      <td>1</td>\n",
       "      <td>2</td>\n",
       "      <td>2.0</td>\n",
       "      <td>31397</td>\n",
       "      <td>7.0</td>\n",
       "      <td>2</td>\n",
       "      <td>5558.0</td>\n",
       "      <td>0</td>\n",
       "    </tr>\n",
       "  </tbody>\n",
       "</table>\n",
       "</div>"
      ],
      "text/plain": [
       "   Hospital  Hospital_type  Hospital_city  Hospital_region  \\\n",
       "0         8              2              3                2   \n",
       "1         2              2              5                2   \n",
       "2        10              4              1                0   \n",
       "3        26              1              2                1   \n",
       "4        26              1              2                1   \n",
       "\n",
       "   Available_Extra_Rooms_in_Hospital  Bed_Grade  patientid  City_Code_Patient  \\\n",
       "0                                  3        2.0      31397                7.0   \n",
       "1                                  2        2.0      31397                7.0   \n",
       "2                                  2        2.0      31397                7.0   \n",
       "3                                  2        2.0      31397                7.0   \n",
       "4                                  2        2.0      31397                7.0   \n",
       "\n",
       "   Patient_Visitors  Admission_Deposit  Stay_Days  \n",
       "0                 2             4911.0          0  \n",
       "1                 2             5954.0          0  \n",
       "2                 2             4745.0          0  \n",
       "3                 2             7272.0          0  \n",
       "4                 2             5558.0          0  "
      ]
     },
     "execution_count": 95,
     "metadata": {},
     "output_type": "execute_result"
    }
   ],
   "source": [
    "df_numerical = df.select_dtypes(include = ['float64', 'int64'])\n",
    "df_numerical.head()"
   ]
  },
  {
   "cell_type": "code",
   "execution_count": 96,
   "id": "dd29a426-5f46-4fea-bca7-2df41dca6933",
   "metadata": {},
   "outputs": [
    {
     "data": {
      "text/html": [
       "<div>\n",
       "<style scoped>\n",
       "    .dataframe tbody tr th:only-of-type {\n",
       "        vertical-align: middle;\n",
       "    }\n",
       "\n",
       "    .dataframe tbody tr th {\n",
       "        vertical-align: top;\n",
       "    }\n",
       "\n",
       "    .dataframe thead th {\n",
       "        text-align: right;\n",
       "    }\n",
       "</style>\n",
       "<table border=\"1\" class=\"dataframe\">\n",
       "  <thead>\n",
       "    <tr style=\"text-align: right;\">\n",
       "      <th></th>\n",
       "      <th>Hospital</th>\n",
       "      <th>Available_Extra_Rooms_in_Hospital</th>\n",
       "      <th>Bed_Grade</th>\n",
       "      <th>patientid</th>\n",
       "      <th>City_Code_Patient</th>\n",
       "      <th>Patient_Visitors</th>\n",
       "      <th>Admission_Deposit</th>\n",
       "      <th>Stay_Days</th>\n",
       "    </tr>\n",
       "  </thead>\n",
       "  <tbody>\n",
       "    <tr>\n",
       "      <th>0</th>\n",
       "      <td>8</td>\n",
       "      <td>3</td>\n",
       "      <td>2.0</td>\n",
       "      <td>31397</td>\n",
       "      <td>7.0</td>\n",
       "      <td>2</td>\n",
       "      <td>4911.0</td>\n",
       "      <td>0</td>\n",
       "    </tr>\n",
       "    <tr>\n",
       "      <th>1</th>\n",
       "      <td>2</td>\n",
       "      <td>2</td>\n",
       "      <td>2.0</td>\n",
       "      <td>31397</td>\n",
       "      <td>7.0</td>\n",
       "      <td>2</td>\n",
       "      <td>5954.0</td>\n",
       "      <td>0</td>\n",
       "    </tr>\n",
       "    <tr>\n",
       "      <th>2</th>\n",
       "      <td>10</td>\n",
       "      <td>2</td>\n",
       "      <td>2.0</td>\n",
       "      <td>31397</td>\n",
       "      <td>7.0</td>\n",
       "      <td>2</td>\n",
       "      <td>4745.0</td>\n",
       "      <td>0</td>\n",
       "    </tr>\n",
       "    <tr>\n",
       "      <th>3</th>\n",
       "      <td>26</td>\n",
       "      <td>2</td>\n",
       "      <td>2.0</td>\n",
       "      <td>31397</td>\n",
       "      <td>7.0</td>\n",
       "      <td>2</td>\n",
       "      <td>7272.0</td>\n",
       "      <td>0</td>\n",
       "    </tr>\n",
       "    <tr>\n",
       "      <th>4</th>\n",
       "      <td>26</td>\n",
       "      <td>2</td>\n",
       "      <td>2.0</td>\n",
       "      <td>31397</td>\n",
       "      <td>7.0</td>\n",
       "      <td>2</td>\n",
       "      <td>5558.0</td>\n",
       "      <td>0</td>\n",
       "    </tr>\n",
       "    <tr>\n",
       "      <th>...</th>\n",
       "      <td>...</td>\n",
       "      <td>...</td>\n",
       "      <td>...</td>\n",
       "      <td>...</td>\n",
       "      <td>...</td>\n",
       "      <td>...</td>\n",
       "      <td>...</td>\n",
       "      <td>...</td>\n",
       "    </tr>\n",
       "    <tr>\n",
       "      <th>29995</th>\n",
       "      <td>12</td>\n",
       "      <td>3</td>\n",
       "      <td>3.0</td>\n",
       "      <td>29424</td>\n",
       "      <td>8.0</td>\n",
       "      <td>3</td>\n",
       "      <td>6039.0</td>\n",
       "      <td>0</td>\n",
       "    </tr>\n",
       "    <tr>\n",
       "      <th>29996</th>\n",
       "      <td>10</td>\n",
       "      <td>2</td>\n",
       "      <td>4.0</td>\n",
       "      <td>29424</td>\n",
       "      <td>8.0</td>\n",
       "      <td>4</td>\n",
       "      <td>7042.0</td>\n",
       "      <td>0</td>\n",
       "    </tr>\n",
       "    <tr>\n",
       "      <th>29997</th>\n",
       "      <td>23</td>\n",
       "      <td>4</td>\n",
       "      <td>1.0</td>\n",
       "      <td>29424</td>\n",
       "      <td>8.0</td>\n",
       "      <td>4</td>\n",
       "      <td>5573.0</td>\n",
       "      <td>0</td>\n",
       "    </tr>\n",
       "    <tr>\n",
       "      <th>29998</th>\n",
       "      <td>11</td>\n",
       "      <td>3</td>\n",
       "      <td>4.0</td>\n",
       "      <td>24299</td>\n",
       "      <td>2.0</td>\n",
       "      <td>2</td>\n",
       "      <td>5539.0</td>\n",
       "      <td>0</td>\n",
       "    </tr>\n",
       "    <tr>\n",
       "      <th>29999</th>\n",
       "      <td>17</td>\n",
       "      <td>2</td>\n",
       "      <td>4.0</td>\n",
       "      <td>24299</td>\n",
       "      <td>2.0</td>\n",
       "      <td>3</td>\n",
       "      <td>4869.0</td>\n",
       "      <td>0</td>\n",
       "    </tr>\n",
       "  </tbody>\n",
       "</table>\n",
       "<p>30000 rows × 8 columns</p>\n",
       "</div>"
      ],
      "text/plain": [
       "       Hospital  Available_Extra_Rooms_in_Hospital  Bed_Grade  patientid  \\\n",
       "0             8                                  3        2.0      31397   \n",
       "1             2                                  2        2.0      31397   \n",
       "2            10                                  2        2.0      31397   \n",
       "3            26                                  2        2.0      31397   \n",
       "4            26                                  2        2.0      31397   \n",
       "...         ...                                ...        ...        ...   \n",
       "29995        12                                  3        3.0      29424   \n",
       "29996        10                                  2        4.0      29424   \n",
       "29997        23                                  4        1.0      29424   \n",
       "29998        11                                  3        4.0      24299   \n",
       "29999        17                                  2        4.0      24299   \n",
       "\n",
       "       City_Code_Patient  Patient_Visitors  Admission_Deposit  Stay_Days  \n",
       "0                    7.0                 2             4911.0          0  \n",
       "1                    7.0                 2             5954.0          0  \n",
       "2                    7.0                 2             4745.0          0  \n",
       "3                    7.0                 2             7272.0          0  \n",
       "4                    7.0                 2             5558.0          0  \n",
       "...                  ...               ...                ...        ...  \n",
       "29995                8.0                 3             6039.0          0  \n",
       "29996                8.0                 4             7042.0          0  \n",
       "29997                8.0                 4             5573.0          0  \n",
       "29998                2.0                 2             5539.0          0  \n",
       "29999                2.0                 3             4869.0          0  \n",
       "\n",
       "[30000 rows x 8 columns]"
      ]
     },
     "execution_count": 96,
     "metadata": {},
     "output_type": "execute_result"
    }
   ],
   "source": [
    "df_num = df_numerical.drop(['Hospital_type', 'Hospital_city', 'Hospital_region'], axis=1)\n",
    "df_num"
   ]
  },
  {
   "cell_type": "markdown",
   "id": "377d7061-8d5e-444c-aea5-ad7dd88b9595",
   "metadata": {},
   "source": [
    "#### Now lets plot them all:"
   ]
  },
  {
   "cell_type": "code",
   "execution_count": 89,
   "id": "6636d58b-6766-4cff-8d95-88d0164f032d",
   "metadata": {},
   "outputs": [
    {
     "data": {
      "text/plain": [
       "array([[<AxesSubplot:title={'center':'Hospital'}>,\n",
       "        <AxesSubplot:title={'center':'Available_Extra_Rooms_in_Hospital'}>,\n",
       "        <AxesSubplot:title={'center':'Bed_Grade'}>],\n",
       "       [<AxesSubplot:title={'center':'patientid'}>,\n",
       "        <AxesSubplot:title={'center':'City_Code_Patient'}>,\n",
       "        <AxesSubplot:title={'center':'Patient_Visitors'}>],\n",
       "       [<AxesSubplot:title={'center':'Admission_Deposit'}>,\n",
       "        <AxesSubplot:title={'center':'Stay_Days'}>, <AxesSubplot:>]],\n",
       "      dtype=object)"
      ]
     },
     "execution_count": 89,
     "metadata": {},
     "output_type": "execute_result"
    },
    {
     "data": {
      "image/png": "[encoded data removed]",
      "text/plain": [
       "<Figure size 1152x1152 with 9 Axes>"
      ]
     },
     "metadata": {
      "needs_background": "light"
     },
     "output_type": "display_data"
    }
   ],
   "source": [
    "df_num.hist(figsize=(16, 16), bins=20, xlabelsize=8, ylabelsize=8)"
   ]
  },
  {
   "cell_type": "markdown",
   "id": "da8b1cc7-f438-4efe-884d-b4aff56fcc09",
   "metadata": {},
   "source": [
    "#### Well! we can see some relations between features. Let's go deeper and check the corelations between features."
   ]
  },
  {
   "cell_type": "markdown",
   "id": "b73a15fc-8284-46fd-9fc4-094ca54154d1",
   "metadata": {},
   "source": [
    "### Corelation plot"
   ]
  },
  {
   "cell_type": "code",
   "execution_count": 98,
   "id": "e9e7a540-fa3a-45c3-96b9-ce513c030590",
   "metadata": {},
   "outputs": [
    {
     "data": {
      "text/plain": [
       "<AxesSubplot:>"
      ]
     },
     "execution_count": 98,
     "metadata": {},
     "output_type": "execute_result"
    },
    {
     "data": {
      "image/png": "[encoded data removed]",
      "text/plain": [
       "<Figure size 864x432 with 2 Axes>"
      ]
     },
     "metadata": {
      "needs_background": "light"
     },
     "output_type": "display_data"
    }
   ],
   "source": [
    "cor = df_num.corr()\n",
    "plt.figure(figsize=(12,6))\n",
    "sns.heatmap(cor,cmap='Set1',annot=True)"
   ]
  },
  {
   "cell_type": "markdown",
   "id": "b403a4de-aa80-4bf1-a020-4489ee95e917",
   "metadata": {},
   "source": [
    "#### That was just corelations between Numerical features. Now we can plot with the numeric features that are actully categorical! (Althogh we know that might show a not reliable relations result because of Catrgorical features!)"
   ]
  },
  {
   "cell_type": "code",
   "execution_count": 99,
   "id": "ea3300b0-8133-4a1c-96b8-431181f5cdee",
   "metadata": {},
   "outputs": [
    {
     "data": {
      "text/plain": [
       "<AxesSubplot:>"
      ]
     },
     "execution_count": 99,
     "metadata": {},
     "output_type": "execute_result"
    },
    {
     "data": {
      "image/png": "[encoded data removed]",
      "text/plain": [
       "<Figure size 864x432 with 2 Axes>"
      ]
     },
     "metadata": {
      "needs_background": "light"
     },
     "output_type": "display_data"
    }
   ],
   "source": [
    "cor = df_numerical.corr()\n",
    "plt.figure(figsize=(12,6))\n",
    "sns.heatmap(cor,cmap='Set1',annot=True)"
   ]
  },
  {
   "cell_type": "markdown",
   "id": "8227ce95-b682-4396-a40a-e4a3adb35175",
   "metadata": {},
   "source": [
    "#### We also have some other features that are obviously Categorical! Let's identify them and then Incode them"
   ]
  },
  {
   "cell_type": "markdown",
   "id": "043b8101-5f88-4b48-a7c7-276616a5f32b",
   "metadata": {},
   "source": [
    "## Type Analysing"
   ]
  },
  {
   "cell_type": "code",
   "execution_count": 102,
   "id": "bfb07cca-a8ee-474e-822d-0aeb71c33e20",
   "metadata": {},
   "outputs": [
    {
     "data": {
      "text/plain": [
       "['Department',\n",
       " 'Ward_Type',\n",
       " 'Ward_Facility',\n",
       " 'Type of Admission',\n",
       " 'Illness_Severity',\n",
       " 'Age']"
      ]
     },
     "execution_count": 102,
     "metadata": {},
     "output_type": "execute_result"
    }
   ],
   "source": [
    "from sklearn.compose import make_column_selector as selector\n",
    "categorical_columns_selector = selector(dtype_include= 'object') \n",
    "categorical_columns = categorical_columns_selector(df)\n",
    "categorical_columns"
   ]
  },
  {
   "cell_type": "markdown",
   "id": "59c6c828-6923-4bcf-82dd-a15d423dcaeb",
   "metadata": {},
   "source": [
    "#### Here we will access the count of each categorical feature in barcharts"
   ]
  },
  {
   "cell_type": "code",
   "execution_count": 118,
   "id": "0e163106-32d2-4e1e-991e-355b1f013def",
   "metadata": {},
   "outputs": [
    {
     "data": {
      "text/plain": [
       "<AxesSubplot:xlabel='Illness_Severity', ylabel='count'>"
      ]
     },
     "execution_count": 118,
     "metadata": {},
     "output_type": "execute_result"
    },
    {
     "data": {
      "image/png": "[encoded data removed]",
      "text/plain": [
       "<Figure size 720x576 with 4 Axes>"
      ]
     },
     "metadata": {
      "needs_background": "light"
     },
     "output_type": "display_data"
    }
   ],
   "source": [
    "fig ,ax = plt.subplots(2,2,figsize=(10,8))\n",
    "ax1,ax2,ax3,ax4 = ax.flatten()\n",
    "sns.countplot(data=df,x='Department',palette='gist_rainbow',ax=ax1)\n",
    "sns.countplot(data=df,x='Ward_Type',palette='viridis',ax=ax2)\n",
    "sns.countplot(data=df,x='Ward_Facility',palette='viridis',ax=ax3)\n",
    "sns.countplot(data=df,x='Illness_Severity',palette='gist_rainbow',ax=ax4)"
   ]
  },
  {
   "cell_type": "code",
   "execution_count": 35,
   "id": "a2f5fe8e-a91b-4462-9790-9ce5c66d6304",
   "metadata": {},
   "outputs": [
    {
     "name": "stdout",
     "output_type": "stream",
     "text": [
      "Department\n",
      "['radiotherapy' 'anesthesia' 'gynecology' 'TB & Chest disease' 'surgery']\n",
      "Ward_Type\n",
      "['R' 'S' 'Q' 'P' 'T']\n",
      "Ward_Facility\n",
      "['F' 'E' 'D' 'B' 'A' 'C']\n",
      "Type of Admission\n",
      "['Emergency' 'Trauma' 'Urgent']\n",
      "Illness_Severity\n",
      "['Extreme' 'Moderate' 'Minor']\n",
      "Age\n",
      "['51-60' '71-80' '31-40' '41-50' '81-90' '61-70' '21-30' '11-20' '0-10'\n",
      " '91-100']\n"
     ]
    }
   ],
   "source": [
    "categoricals = ['Department',\n",
    " 'Ward_Type',\n",
    " 'Ward_Facility',\n",
    " 'Type of Admission',\n",
    " 'Illness_Severity',\n",
    " 'Age']\n",
    "\n",
    "for col in categoricals:\n",
    "    print(col)\n",
    "    print(df[col].unique())"
   ]
  },
  {
   "cell_type": "markdown",
   "id": "e3ceb6b7-3052-48f6-ac27-3861b5b83985",
   "metadata": {},
   "source": [
    "#### Using ordina encodin for ordinal"
   ]
  },
  {
   "cell_type": "code",
   "execution_count": 108,
   "id": "f1ae1da4-deef-440a-8d11-76d3061ff9de",
   "metadata": {},
   "outputs": [],
   "source": [
    "ordinal_list = ['Illness_Severity', 'Age', 'Ward_Facility']\n",
    "\n",
    "Illness_Severity = ['Minor', 'Moderate', 'Extreme']\n",
    "Age = ['0-10', '11-20', '21-30', '31-40', '41-50', '51-60', '61-70', '71-80', '81-90','91-100']\n",
    "Ward_Facility = ['A', 'B', 'C', 'D', 'E', 'F']\n",
    "\n",
    "encoder = OrdinalEncoder(categories=[Illness_Severity, Age, Ward_Facility])\n",
    "ordinal_encoded = pd.DataFrame(encoder.fit_transform(df[ordinal_list]), columns=(ordinal_list))\n",
    "\n",
    "df = df.drop(['Illness_Severity', 'Age', 'Ward_Facility'], axis=1)"
   ]
  },
  {
   "cell_type": "code",
   "execution_count": 109,
   "id": "07ebcebc-e437-4ec8-8c72-543bc7102f8b",
   "metadata": {},
   "outputs": [
    {
     "data": {
      "text/html": [
       "<div>\n",
       "<style scoped>\n",
       "    .dataframe tbody tr th:only-of-type {\n",
       "        vertical-align: middle;\n",
       "    }\n",
       "\n",
       "    .dataframe tbody tr th {\n",
       "        vertical-align: top;\n",
       "    }\n",
       "\n",
       "    .dataframe thead th {\n",
       "        text-align: right;\n",
       "    }\n",
       "</style>\n",
       "<table border=\"1\" class=\"dataframe\">\n",
       "  <thead>\n",
       "    <tr style=\"text-align: right;\">\n",
       "      <th></th>\n",
       "      <th>Hospital</th>\n",
       "      <th>Hospital_type</th>\n",
       "      <th>Hospital_city</th>\n",
       "      <th>Hospital_region</th>\n",
       "      <th>Available_Extra_Rooms_in_Hospital</th>\n",
       "      <th>Department</th>\n",
       "      <th>Ward_Type</th>\n",
       "      <th>Bed_Grade</th>\n",
       "      <th>patientid</th>\n",
       "      <th>City_Code_Patient</th>\n",
       "      <th>Type of Admission</th>\n",
       "      <th>Patient_Visitors</th>\n",
       "      <th>Admission_Deposit</th>\n",
       "      <th>Illness_Severity</th>\n",
       "      <th>Age</th>\n",
       "      <th>Ward_Facility</th>\n",
       "      <th>Stay_Days</th>\n",
       "    </tr>\n",
       "  </thead>\n",
       "  <tbody>\n",
       "    <tr>\n",
       "      <th>0</th>\n",
       "      <td>8</td>\n",
       "      <td>2</td>\n",
       "      <td>3</td>\n",
       "      <td>2</td>\n",
       "      <td>3</td>\n",
       "      <td>radiotherapy</td>\n",
       "      <td>R</td>\n",
       "      <td>2.0</td>\n",
       "      <td>31397</td>\n",
       "      <td>7.0</td>\n",
       "      <td>Emergency</td>\n",
       "      <td>2</td>\n",
       "      <td>4911.0</td>\n",
       "      <td>2.0</td>\n",
       "      <td>5.0</td>\n",
       "      <td>5.0</td>\n",
       "      <td>0</td>\n",
       "    </tr>\n",
       "    <tr>\n",
       "      <th>1</th>\n",
       "      <td>2</td>\n",
       "      <td>2</td>\n",
       "      <td>5</td>\n",
       "      <td>2</td>\n",
       "      <td>2</td>\n",
       "      <td>radiotherapy</td>\n",
       "      <td>S</td>\n",
       "      <td>2.0</td>\n",
       "      <td>31397</td>\n",
       "      <td>7.0</td>\n",
       "      <td>Trauma</td>\n",
       "      <td>2</td>\n",
       "      <td>5954.0</td>\n",
       "      <td>2.0</td>\n",
       "      <td>5.0</td>\n",
       "      <td>5.0</td>\n",
       "      <td>0</td>\n",
       "    </tr>\n",
       "    <tr>\n",
       "      <th>2</th>\n",
       "      <td>10</td>\n",
       "      <td>4</td>\n",
       "      <td>1</td>\n",
       "      <td>0</td>\n",
       "      <td>2</td>\n",
       "      <td>anesthesia</td>\n",
       "      <td>S</td>\n",
       "      <td>2.0</td>\n",
       "      <td>31397</td>\n",
       "      <td>7.0</td>\n",
       "      <td>Trauma</td>\n",
       "      <td>2</td>\n",
       "      <td>4745.0</td>\n",
       "      <td>2.0</td>\n",
       "      <td>5.0</td>\n",
       "      <td>4.0</td>\n",
       "      <td>0</td>\n",
       "    </tr>\n",
       "    <tr>\n",
       "      <th>3</th>\n",
       "      <td>26</td>\n",
       "      <td>1</td>\n",
       "      <td>2</td>\n",
       "      <td>1</td>\n",
       "      <td>2</td>\n",
       "      <td>radiotherapy</td>\n",
       "      <td>R</td>\n",
       "      <td>2.0</td>\n",
       "      <td>31397</td>\n",
       "      <td>7.0</td>\n",
       "      <td>Trauma</td>\n",
       "      <td>2</td>\n",
       "      <td>7272.0</td>\n",
       "      <td>2.0</td>\n",
       "      <td>5.0</td>\n",
       "      <td>3.0</td>\n",
       "      <td>0</td>\n",
       "    </tr>\n",
       "    <tr>\n",
       "      <th>4</th>\n",
       "      <td>26</td>\n",
       "      <td>1</td>\n",
       "      <td>2</td>\n",
       "      <td>1</td>\n",
       "      <td>2</td>\n",
       "      <td>radiotherapy</td>\n",
       "      <td>S</td>\n",
       "      <td>2.0</td>\n",
       "      <td>31397</td>\n",
       "      <td>7.0</td>\n",
       "      <td>Trauma</td>\n",
       "      <td>2</td>\n",
       "      <td>5558.0</td>\n",
       "      <td>2.0</td>\n",
       "      <td>5.0</td>\n",
       "      <td>3.0</td>\n",
       "      <td>0</td>\n",
       "    </tr>\n",
       "    <tr>\n",
       "      <th>...</th>\n",
       "      <td>...</td>\n",
       "      <td>...</td>\n",
       "      <td>...</td>\n",
       "      <td>...</td>\n",
       "      <td>...</td>\n",
       "      <td>...</td>\n",
       "      <td>...</td>\n",
       "      <td>...</td>\n",
       "      <td>...</td>\n",
       "      <td>...</td>\n",
       "      <td>...</td>\n",
       "      <td>...</td>\n",
       "      <td>...</td>\n",
       "      <td>...</td>\n",
       "      <td>...</td>\n",
       "      <td>...</td>\n",
       "      <td>...</td>\n",
       "    </tr>\n",
       "    <tr>\n",
       "      <th>29995</th>\n",
       "      <td>12</td>\n",
       "      <td>0</td>\n",
       "      <td>9</td>\n",
       "      <td>1</td>\n",
       "      <td>3</td>\n",
       "      <td>gynecology</td>\n",
       "      <td>Q</td>\n",
       "      <td>3.0</td>\n",
       "      <td>29424</td>\n",
       "      <td>8.0</td>\n",
       "      <td>Trauma</td>\n",
       "      <td>3</td>\n",
       "      <td>6039.0</td>\n",
       "      <td>2.0</td>\n",
       "      <td>4.0</td>\n",
       "      <td>1.0</td>\n",
       "      <td>0</td>\n",
       "    </tr>\n",
       "    <tr>\n",
       "      <th>29996</th>\n",
       "      <td>10</td>\n",
       "      <td>4</td>\n",
       "      <td>1</td>\n",
       "      <td>0</td>\n",
       "      <td>2</td>\n",
       "      <td>gynecology</td>\n",
       "      <td>Q</td>\n",
       "      <td>4.0</td>\n",
       "      <td>29424</td>\n",
       "      <td>8.0</td>\n",
       "      <td>Trauma</td>\n",
       "      <td>4</td>\n",
       "      <td>7042.0</td>\n",
       "      <td>2.0</td>\n",
       "      <td>4.0</td>\n",
       "      <td>4.0</td>\n",
       "      <td>0</td>\n",
       "    </tr>\n",
       "    <tr>\n",
       "      <th>29997</th>\n",
       "      <td>23</td>\n",
       "      <td>0</td>\n",
       "      <td>6</td>\n",
       "      <td>0</td>\n",
       "      <td>4</td>\n",
       "      <td>TB &amp; Chest disease</td>\n",
       "      <td>Q</td>\n",
       "      <td>1.0</td>\n",
       "      <td>29424</td>\n",
       "      <td>8.0</td>\n",
       "      <td>Trauma</td>\n",
       "      <td>4</td>\n",
       "      <td>5573.0</td>\n",
       "      <td>2.0</td>\n",
       "      <td>4.0</td>\n",
       "      <td>5.0</td>\n",
       "      <td>0</td>\n",
       "    </tr>\n",
       "    <tr>\n",
       "      <th>29998</th>\n",
       "      <td>11</td>\n",
       "      <td>1</td>\n",
       "      <td>2</td>\n",
       "      <td>1</td>\n",
       "      <td>3</td>\n",
       "      <td>gynecology</td>\n",
       "      <td>Q</td>\n",
       "      <td>4.0</td>\n",
       "      <td>24299</td>\n",
       "      <td>2.0</td>\n",
       "      <td>Trauma</td>\n",
       "      <td>2</td>\n",
       "      <td>5539.0</td>\n",
       "      <td>1.0</td>\n",
       "      <td>5.0</td>\n",
       "      <td>3.0</td>\n",
       "      <td>0</td>\n",
       "    </tr>\n",
       "    <tr>\n",
       "      <th>29999</th>\n",
       "      <td>17</td>\n",
       "      <td>4</td>\n",
       "      <td>1</td>\n",
       "      <td>0</td>\n",
       "      <td>2</td>\n",
       "      <td>TB &amp; Chest disease</td>\n",
       "      <td>R</td>\n",
       "      <td>4.0</td>\n",
       "      <td>24299</td>\n",
       "      <td>2.0</td>\n",
       "      <td>Trauma</td>\n",
       "      <td>3</td>\n",
       "      <td>4869.0</td>\n",
       "      <td>1.0</td>\n",
       "      <td>5.0</td>\n",
       "      <td>4.0</td>\n",
       "      <td>0</td>\n",
       "    </tr>\n",
       "  </tbody>\n",
       "</table>\n",
       "<p>30000 rows × 17 columns</p>\n",
       "</div>"
      ],
      "text/plain": [
       "       Hospital  Hospital_type  Hospital_city  Hospital_region  \\\n",
       "0             8              2              3                2   \n",
       "1             2              2              5                2   \n",
       "2            10              4              1                0   \n",
       "3            26              1              2                1   \n",
       "4            26              1              2                1   \n",
       "...         ...            ...            ...              ...   \n",
       "29995        12              0              9                1   \n",
       "29996        10              4              1                0   \n",
       "29997        23              0              6                0   \n",
       "29998        11              1              2                1   \n",
       "29999        17              4              1                0   \n",
       "\n",
       "       Available_Extra_Rooms_in_Hospital          Department Ward_Type  \\\n",
       "0                                      3        radiotherapy         R   \n",
       "1                                      2        radiotherapy         S   \n",
       "2                                      2          anesthesia         S   \n",
       "3                                      2        radiotherapy         R   \n",
       "4                                      2        radiotherapy         S   \n",
       "...                                  ...                 ...       ...   \n",
       "29995                                  3          gynecology         Q   \n",
       "29996                                  2          gynecology         Q   \n",
       "29997                                  4  TB & Chest disease         Q   \n",
       "29998                                  3          gynecology         Q   \n",
       "29999                                  2  TB & Chest disease         R   \n",
       "\n",
       "       Bed_Grade  patientid  City_Code_Patient Type of Admission  \\\n",
       "0            2.0      31397                7.0         Emergency   \n",
       "1            2.0      31397                7.0            Trauma   \n",
       "2            2.0      31397                7.0            Trauma   \n",
       "3            2.0      31397                7.0            Trauma   \n",
       "4            2.0      31397                7.0            Trauma   \n",
       "...          ...        ...                ...               ...   \n",
       "29995        3.0      29424                8.0            Trauma   \n",
       "29996        4.0      29424                8.0            Trauma   \n",
       "29997        1.0      29424                8.0            Trauma   \n",
       "29998        4.0      24299                2.0            Trauma   \n",
       "29999        4.0      24299                2.0            Trauma   \n",
       "\n",
       "       Patient_Visitors  Admission_Deposit  Illness_Severity  Age  \\\n",
       "0                     2             4911.0               2.0  5.0   \n",
       "1                     2             5954.0               2.0  5.0   \n",
       "2                     2             4745.0               2.0  5.0   \n",
       "3                     2             7272.0               2.0  5.0   \n",
       "4                     2             5558.0               2.0  5.0   \n",
       "...                 ...                ...               ...  ...   \n",
       "29995                 3             6039.0               2.0  4.0   \n",
       "29996                 4             7042.0               2.0  4.0   \n",
       "29997                 4             5573.0               2.0  4.0   \n",
       "29998                 2             5539.0               1.0  5.0   \n",
       "29999                 3             4869.0               1.0  5.0   \n",
       "\n",
       "       Ward_Facility  Stay_Days  \n",
       "0                5.0          0  \n",
       "1                5.0          0  \n",
       "2                4.0          0  \n",
       "3                3.0          0  \n",
       "4                3.0          0  \n",
       "...              ...        ...  \n",
       "29995            1.0          0  \n",
       "29996            4.0          0  \n",
       "29997            5.0          0  \n",
       "29998            3.0          0  \n",
       "29999            4.0          0  \n",
       "\n",
       "[30000 rows x 17 columns]"
      ]
     },
     "execution_count": 109,
     "metadata": {},
     "output_type": "execute_result"
    }
   ],
   "source": [
    "df = pd.concat([df, ordinal_encoded], axis=1)\n",
    "target_column = df.pop('Stay_Days')\n",
    "df['Stay_Days'] = target_column\n",
    "df"
   ]
  },
  {
   "cell_type": "markdown",
   "id": "11017571-a3da-4afb-999b-80aad4937e6a",
   "metadata": {},
   "source": [
    "#### Before diving into numeric features, let's check if there is nan value in the dataset or not."
   ]
  },
  {
   "cell_type": "code",
   "execution_count": 111,
   "id": "8fa596f1-8071-4092-b5e3-158547ceb43e",
   "metadata": {},
   "outputs": [
    {
     "data": {
      "text/plain": [
       "Hospital                               0\n",
       "Hospital_type                          0\n",
       "Hospital_city                          0\n",
       "Hospital_region                        0\n",
       "Available_Extra_Rooms_in_Hospital      0\n",
       "Department                             0\n",
       "Ward_Type                              0\n",
       "Bed_Grade                              6\n",
       "patientid                              0\n",
       "City_Code_Patient                    271\n",
       "Type of Admission                      0\n",
       "Patient_Visitors                       0\n",
       "Admission_Deposit                      0\n",
       "Illness_Severity                       0\n",
       "Age                                    0\n",
       "Ward_Facility                          0\n",
       "Stay_Days                              0\n",
       "dtype: int64"
      ]
     },
     "execution_count": 111,
     "metadata": {},
     "output_type": "execute_result"
    }
   ],
   "source": [
    "df.isna().sum()"
   ]
  },
  {
   "cell_type": "markdown",
   "id": "40019d9d-cb2a-4f4e-a997-c05cb74f72b7",
   "metadata": {},
   "source": [
    "#### Well as it is shown, we have two columns with nan values. Imputing them before incoding is needed."
   ]
  },
  {
   "cell_type": "code",
   "execution_count": 113,
   "id": "82515a0d-eef6-4d5e-a559-9e8f9fed7377",
   "metadata": {},
   "outputs": [
    {
     "data": {
      "application/javascript": [
       "\n",
       "        if (window._pyforest_update_imports_cell) { window._pyforest_update_imports_cell('from sklearn.impute import SimpleImputer\\nfrom sklearn.linear_model import LogisticRegression\\nfrom sklearn.model_selection import StratifiedKFold'); }\n",
       "    "
      ],
      "text/plain": [
       "<IPython.core.display.Javascript object>"
      ]
     },
     "metadata": {},
     "output_type": "display_data"
    },
    {
     "data": {
      "text/plain": [
       "Hospital                             0\n",
       "Hospital_type                        0\n",
       "Hospital_city                        0\n",
       "Hospital_region                      0\n",
       "Available_Extra_Rooms_in_Hospital    0\n",
       "Department                           0\n",
       "Ward_Type                            0\n",
       "Bed_Grade                            0\n",
       "patientid                            0\n",
       "City_Code_Patient                    0\n",
       "Type of Admission                    0\n",
       "Patient_Visitors                     0\n",
       "Admission_Deposit                    0\n",
       "Illness_Severity                     0\n",
       "Age                                  0\n",
       "Ward_Facility                        0\n",
       "Stay_Days                            0\n",
       "dtype: int64"
      ]
     },
     "execution_count": 113,
     "metadata": {},
     "output_type": "execute_result"
    }
   ],
   "source": [
    "# impute with simple imputer and 'median', because they are categorical\n",
    "data =  df[['Bed_Grade', 'City_Code_Patient']] \n",
    "imp = SimpleImputer(strategy='median') \n",
    "my_array = imp.fit_transform(data)\n",
    "data = pd.DataFrame(my_array, columns = [col for col in data])\n",
    "df['Bed_Grade'] , df['City_Code_Patient'] = data['Bed_Grade'], data['City_Code_Patient']\n",
    "\n",
    "df.isna().sum()"
   ]
  },
  {
   "cell_type": "markdown",
   "id": "255d0438-f640-4df4-aaa1-df0756bde702",
   "metadata": {},
   "source": [
    "#### Now it's ok. Here label encoding is ready to be used for those numerical categories. "
   ]
  },
  {
   "cell_type": "code",
   "execution_count": 115,
   "id": "d8d4a4e3-0038-45fb-87de-77fbb656050e",
   "metadata": {},
   "outputs": [
    {
     "data": {
      "text/html": [
       "<div>\n",
       "<style scoped>\n",
       "    .dataframe tbody tr th:only-of-type {\n",
       "        vertical-align: middle;\n",
       "    }\n",
       "\n",
       "    .dataframe tbody tr th {\n",
       "        vertical-align: top;\n",
       "    }\n",
       "\n",
       "    .dataframe thead th {\n",
       "        text-align: right;\n",
       "    }\n",
       "</style>\n",
       "<table border=\"1\" class=\"dataframe\">\n",
       "  <thead>\n",
       "    <tr style=\"text-align: right;\">\n",
       "      <th></th>\n",
       "      <th>Hospital</th>\n",
       "      <th>Hospital_type</th>\n",
       "      <th>Hospital_city</th>\n",
       "      <th>Hospital_region</th>\n",
       "      <th>Available_Extra_Rooms_in_Hospital</th>\n",
       "      <th>Department</th>\n",
       "      <th>Ward_Type</th>\n",
       "      <th>Bed_Grade</th>\n",
       "      <th>patientid</th>\n",
       "      <th>City_Code_Patient</th>\n",
       "      <th>Type of Admission</th>\n",
       "      <th>Patient_Visitors</th>\n",
       "      <th>Admission_Deposit</th>\n",
       "      <th>Illness_Severity</th>\n",
       "      <th>Age</th>\n",
       "      <th>Ward_Facility</th>\n",
       "      <th>Stay_Days</th>\n",
       "    </tr>\n",
       "  </thead>\n",
       "  <tbody>\n",
       "    <tr>\n",
       "      <th>0</th>\n",
       "      <td>8</td>\n",
       "      <td>2</td>\n",
       "      <td>3</td>\n",
       "      <td>2</td>\n",
       "      <td>3</td>\n",
       "      <td>3</td>\n",
       "      <td>2</td>\n",
       "      <td>2.0</td>\n",
       "      <td>31397</td>\n",
       "      <td>7.0</td>\n",
       "      <td>0</td>\n",
       "      <td>2</td>\n",
       "      <td>4911.0</td>\n",
       "      <td>2.0</td>\n",
       "      <td>5.0</td>\n",
       "      <td>5.0</td>\n",
       "      <td>0</td>\n",
       "    </tr>\n",
       "    <tr>\n",
       "      <th>1</th>\n",
       "      <td>2</td>\n",
       "      <td>2</td>\n",
       "      <td>5</td>\n",
       "      <td>2</td>\n",
       "      <td>2</td>\n",
       "      <td>3</td>\n",
       "      <td>3</td>\n",
       "      <td>2.0</td>\n",
       "      <td>31397</td>\n",
       "      <td>7.0</td>\n",
       "      <td>1</td>\n",
       "      <td>2</td>\n",
       "      <td>5954.0</td>\n",
       "      <td>2.0</td>\n",
       "      <td>5.0</td>\n",
       "      <td>5.0</td>\n",
       "      <td>0</td>\n",
       "    </tr>\n",
       "    <tr>\n",
       "      <th>2</th>\n",
       "      <td>10</td>\n",
       "      <td>4</td>\n",
       "      <td>1</td>\n",
       "      <td>0</td>\n",
       "      <td>2</td>\n",
       "      <td>1</td>\n",
       "      <td>3</td>\n",
       "      <td>2.0</td>\n",
       "      <td>31397</td>\n",
       "      <td>7.0</td>\n",
       "      <td>1</td>\n",
       "      <td>2</td>\n",
       "      <td>4745.0</td>\n",
       "      <td>2.0</td>\n",
       "      <td>5.0</td>\n",
       "      <td>4.0</td>\n",
       "      <td>0</td>\n",
       "    </tr>\n",
       "    <tr>\n",
       "      <th>3</th>\n",
       "      <td>26</td>\n",
       "      <td>1</td>\n",
       "      <td>2</td>\n",
       "      <td>1</td>\n",
       "      <td>2</td>\n",
       "      <td>3</td>\n",
       "      <td>2</td>\n",
       "      <td>2.0</td>\n",
       "      <td>31397</td>\n",
       "      <td>7.0</td>\n",
       "      <td>1</td>\n",
       "      <td>2</td>\n",
       "      <td>7272.0</td>\n",
       "      <td>2.0</td>\n",
       "      <td>5.0</td>\n",
       "      <td>3.0</td>\n",
       "      <td>0</td>\n",
       "    </tr>\n",
       "    <tr>\n",
       "      <th>4</th>\n",
       "      <td>26</td>\n",
       "      <td>1</td>\n",
       "      <td>2</td>\n",
       "      <td>1</td>\n",
       "      <td>2</td>\n",
       "      <td>3</td>\n",
       "      <td>3</td>\n",
       "      <td>2.0</td>\n",
       "      <td>31397</td>\n",
       "      <td>7.0</td>\n",
       "      <td>1</td>\n",
       "      <td>2</td>\n",
       "      <td>5558.0</td>\n",
       "      <td>2.0</td>\n",
       "      <td>5.0</td>\n",
       "      <td>3.0</td>\n",
       "      <td>0</td>\n",
       "    </tr>\n",
       "    <tr>\n",
       "      <th>...</th>\n",
       "      <td>...</td>\n",
       "      <td>...</td>\n",
       "      <td>...</td>\n",
       "      <td>...</td>\n",
       "      <td>...</td>\n",
       "      <td>...</td>\n",
       "      <td>...</td>\n",
       "      <td>...</td>\n",
       "      <td>...</td>\n",
       "      <td>...</td>\n",
       "      <td>...</td>\n",
       "      <td>...</td>\n",
       "      <td>...</td>\n",
       "      <td>...</td>\n",
       "      <td>...</td>\n",
       "      <td>...</td>\n",
       "      <td>...</td>\n",
       "    </tr>\n",
       "    <tr>\n",
       "      <th>29995</th>\n",
       "      <td>12</td>\n",
       "      <td>0</td>\n",
       "      <td>9</td>\n",
       "      <td>1</td>\n",
       "      <td>3</td>\n",
       "      <td>2</td>\n",
       "      <td>1</td>\n",
       "      <td>3.0</td>\n",
       "      <td>29424</td>\n",
       "      <td>8.0</td>\n",
       "      <td>1</td>\n",
       "      <td>3</td>\n",
       "      <td>6039.0</td>\n",
       "      <td>2.0</td>\n",
       "      <td>4.0</td>\n",
       "      <td>1.0</td>\n",
       "      <td>0</td>\n",
       "    </tr>\n",
       "    <tr>\n",
       "      <th>29996</th>\n",
       "      <td>10</td>\n",
       "      <td>4</td>\n",
       "      <td>1</td>\n",
       "      <td>0</td>\n",
       "      <td>2</td>\n",
       "      <td>2</td>\n",
       "      <td>1</td>\n",
       "      <td>4.0</td>\n",
       "      <td>29424</td>\n",
       "      <td>8.0</td>\n",
       "      <td>1</td>\n",
       "      <td>4</td>\n",
       "      <td>7042.0</td>\n",
       "      <td>2.0</td>\n",
       "      <td>4.0</td>\n",
       "      <td>4.0</td>\n",
       "      <td>0</td>\n",
       "    </tr>\n",
       "    <tr>\n",
       "      <th>29997</th>\n",
       "      <td>23</td>\n",
       "      <td>0</td>\n",
       "      <td>6</td>\n",
       "      <td>0</td>\n",
       "      <td>4</td>\n",
       "      <td>0</td>\n",
       "      <td>1</td>\n",
       "      <td>1.0</td>\n",
       "      <td>29424</td>\n",
       "      <td>8.0</td>\n",
       "      <td>1</td>\n",
       "      <td>4</td>\n",
       "      <td>5573.0</td>\n",
       "      <td>2.0</td>\n",
       "      <td>4.0</td>\n",
       "      <td>5.0</td>\n",
       "      <td>0</td>\n",
       "    </tr>\n",
       "    <tr>\n",
       "      <th>29998</th>\n",
       "      <td>11</td>\n",
       "      <td>1</td>\n",
       "      <td>2</td>\n",
       "      <td>1</td>\n",
       "      <td>3</td>\n",
       "      <td>2</td>\n",
       "      <td>1</td>\n",
       "      <td>4.0</td>\n",
       "      <td>24299</td>\n",
       "      <td>2.0</td>\n",
       "      <td>1</td>\n",
       "      <td>2</td>\n",
       "      <td>5539.0</td>\n",
       "      <td>1.0</td>\n",
       "      <td>5.0</td>\n",
       "      <td>3.0</td>\n",
       "      <td>0</td>\n",
       "    </tr>\n",
       "    <tr>\n",
       "      <th>29999</th>\n",
       "      <td>17</td>\n",
       "      <td>4</td>\n",
       "      <td>1</td>\n",
       "      <td>0</td>\n",
       "      <td>2</td>\n",
       "      <td>0</td>\n",
       "      <td>2</td>\n",
       "      <td>4.0</td>\n",
       "      <td>24299</td>\n",
       "      <td>2.0</td>\n",
       "      <td>1</td>\n",
       "      <td>3</td>\n",
       "      <td>4869.0</td>\n",
       "      <td>1.0</td>\n",
       "      <td>5.0</td>\n",
       "      <td>4.0</td>\n",
       "      <td>0</td>\n",
       "    </tr>\n",
       "  </tbody>\n",
       "</table>\n",
       "<p>30000 rows × 17 columns</p>\n",
       "</div>"
      ],
      "text/plain": [
       "       Hospital  Hospital_type  Hospital_city  Hospital_region  \\\n",
       "0             8              2              3                2   \n",
       "1             2              2              5                2   \n",
       "2            10              4              1                0   \n",
       "3            26              1              2                1   \n",
       "4            26              1              2                1   \n",
       "...         ...            ...            ...              ...   \n",
       "29995        12              0              9                1   \n",
       "29996        10              4              1                0   \n",
       "29997        23              0              6                0   \n",
       "29998        11              1              2                1   \n",
       "29999        17              4              1                0   \n",
       "\n",
       "       Available_Extra_Rooms_in_Hospital  Department  Ward_Type  Bed_Grade  \\\n",
       "0                                      3           3          2        2.0   \n",
       "1                                      2           3          3        2.0   \n",
       "2                                      2           1          3        2.0   \n",
       "3                                      2           3          2        2.0   \n",
       "4                                      2           3          3        2.0   \n",
       "...                                  ...         ...        ...        ...   \n",
       "29995                                  3           2          1        3.0   \n",
       "29996                                  2           2          1        4.0   \n",
       "29997                                  4           0          1        1.0   \n",
       "29998                                  3           2          1        4.0   \n",
       "29999                                  2           0          2        4.0   \n",
       "\n",
       "       patientid  City_Code_Patient  Type of Admission  Patient_Visitors  \\\n",
       "0          31397                7.0                  0                 2   \n",
       "1          31397                7.0                  1                 2   \n",
       "2          31397                7.0                  1                 2   \n",
       "3          31397                7.0                  1                 2   \n",
       "4          31397                7.0                  1                 2   \n",
       "...          ...                ...                ...               ...   \n",
       "29995      29424                8.0                  1                 3   \n",
       "29996      29424                8.0                  1                 4   \n",
       "29997      29424                8.0                  1                 4   \n",
       "29998      24299                2.0                  1                 2   \n",
       "29999      24299                2.0                  1                 3   \n",
       "\n",
       "       Admission_Deposit  Illness_Severity  Age  Ward_Facility  Stay_Days  \n",
       "0                 4911.0               2.0  5.0            5.0          0  \n",
       "1                 5954.0               2.0  5.0            5.0          0  \n",
       "2                 4745.0               2.0  5.0            4.0          0  \n",
       "3                 7272.0               2.0  5.0            3.0          0  \n",
       "4                 5558.0               2.0  5.0            3.0          0  \n",
       "...                  ...               ...  ...            ...        ...  \n",
       "29995             6039.0               2.0  4.0            1.0          0  \n",
       "29996             7042.0               2.0  4.0            4.0          0  \n",
       "29997             5573.0               2.0  4.0            5.0          0  \n",
       "29998             5539.0               1.0  5.0            3.0          0  \n",
       "29999             4869.0               1.0  5.0            4.0          0  \n",
       "\n",
       "[30000 rows x 17 columns]"
      ]
     },
     "execution_count": 115,
     "metadata": {},
     "output_type": "execute_result"
    }
   ],
   "source": [
    "nominal_categories = [\"Department\", \"Type of Admission\", \"Ward_Type\"]\n",
    "\n",
    "for c in nominal_categories:\n",
    "    le = LabelEncoder()\n",
    "    df[c] = le.fit_transform(df[c].astype(str))\n",
    "    \n",
    "df"
   ]
  },
  {
   "cell_type": "markdown",
   "id": "3129f408-dcf8-4241-90c5-9794ea4fbb02",
   "metadata": {},
   "source": [
    "## Model Training"
   ]
  },
  {
   "cell_type": "code",
   "execution_count": 119,
   "id": "ea43a101-10ab-4e16-8d35-daac013466f5",
   "metadata": {},
   "outputs": [],
   "source": [
    "X = df.iloc[:, 0:-1]\n",
    "y = df.iloc[:, -1]\n",
    "train, test, target, y_test = train_test_split( X, y, test_size=0.2, random_state=4)\n",
    "#x_train #x_test #y_train"
   ]
  },
  {
   "cell_type": "markdown",
   "id": "e860ec72-05e3-4800-bb33-52d5b5981ff7",
   "metadata": {},
   "source": [
    "#### Here I'm gonna use Logestic Regression model. A cross Validation (StratifiedKFold) will check the roc_auc_score and also I check Logloss for each Fold, and all of these are checked on 5 algorithms and the Max score will be the final output here. The algorithms that I will test are : 'newton-cg', 'lbfgs', 'liblinear', 'sag', 'saga'"
   ]
  },
  {
   "cell_type": "code",
   "execution_count": 50,
   "id": "35d6776f-dc8e-4763-812a-e5ff7de9262b",
   "metadata": {},
   "outputs": [
    {
     "data": {
      "application/javascript": [
       "\n",
       "        if (window._pyforest_update_imports_cell) { window._pyforest_update_imports_cell('from sklearn.impute import SimpleImputer\\nfrom sklearn.linear_model import LogisticRegression\\nfrom sklearn.model_selection import StratifiedKFold'); }\n",
       "    "
      ],
      "text/plain": [
       "<IPython.core.display.Javascript object>"
      ]
     },
     "metadata": {},
     "output_type": "display_data"
    },
    {
     "name": "stdout",
     "output_type": "stream",
     "text": [
      "fold: 0  - Starting ...\n"
     ]
    },
    {
     "data": {
      "application/javascript": [
       "\n",
       "        if (window._pyforest_update_imports_cell) { window._pyforest_update_imports_cell('from sklearn.impute import SimpleImputer\\nfrom sklearn.linear_model import LogisticRegression\\nfrom sklearn.model_selection import StratifiedKFold'); }\n",
       "    "
      ],
      "text/plain": [
       "<IPython.core.display.Javascript object>"
      ]
     },
     "metadata": {},
     "output_type": "display_data"
    },
    {
     "name": "stdout",
     "output_type": "stream",
     "text": [
      "fold auc 0.9412692210539609\n",
      "Logloss:0.05795159636153445\n",
      "\n",
      "fold: 1  - Starting ...\n"
     ]
    },
    {
     "data": {
      "application/javascript": [
       "\n",
       "        if (window._pyforest_update_imports_cell) { window._pyforest_update_imports_cell('from sklearn.impute import SimpleImputer\\nfrom sklearn.linear_model import LogisticRegression\\nfrom sklearn.model_selection import StratifiedKFold'); }\n",
       "    "
      ],
      "text/plain": [
       "<IPython.core.display.Javascript object>"
      ]
     },
     "metadata": {},
     "output_type": "display_data"
    },
    {
     "name": "stdout",
     "output_type": "stream",
     "text": [
      "fold auc 0.9130355846042121\n",
      "Logloss:0.06698591818958377\n",
      "\n",
      "fold: 2  - Starting ...\n"
     ]
    },
    {
     "data": {
      "application/javascript": [
       "\n",
       "        if (window._pyforest_update_imports_cell) { window._pyforest_update_imports_cell('from sklearn.impute import SimpleImputer\\nfrom sklearn.linear_model import LogisticRegression\\nfrom sklearn.model_selection import StratifiedKFold'); }\n",
       "    "
      ],
      "text/plain": [
       "<IPython.core.display.Javascript object>"
      ]
     },
     "metadata": {},
     "output_type": "display_data"
    },
    {
     "name": "stdout",
     "output_type": "stream",
     "text": [
      "fold auc 0.907008777746203\n",
      "Logloss:0.06829577051508252\n",
      "\n",
      "fold: 3  - Starting ...\n"
     ]
    },
    {
     "data": {
      "application/javascript": [
       "\n",
       "        if (window._pyforest_update_imports_cell) { window._pyforest_update_imports_cell('from sklearn.impute import SimpleImputer\\nfrom sklearn.linear_model import LogisticRegression\\nfrom sklearn.model_selection import StratifiedKFold'); }\n",
       "    "
      ],
      "text/plain": [
       "<IPython.core.display.Javascript object>"
      ]
     },
     "metadata": {},
     "output_type": "display_data"
    },
    {
     "name": "stdout",
     "output_type": "stream",
     "text": [
      "fold auc 0.8986040068201192\n",
      "Logloss:0.07216834049484457\n",
      "\n",
      "fold: 4  - Starting ...\n"
     ]
    },
    {
     "data": {
      "application/javascript": [
       "\n",
       "        if (window._pyforest_update_imports_cell) { window._pyforest_update_imports_cell('from sklearn.impute import SimpleImputer\\nfrom sklearn.linear_model import LogisticRegression\\nfrom sklearn.model_selection import StratifiedKFold'); }\n",
       "    "
      ],
      "text/plain": [
       "<IPython.core.display.Javascript object>"
      ]
     },
     "metadata": {},
     "output_type": "display_data"
    },
    {
     "name": "stdout",
     "output_type": "stream",
     "text": [
      "fold auc 0.9378880894314509\n",
      "Logloss:0.062225436975246684\n",
      "\n",
      "Lr Model auc with newton-cg:  ...>, 0.9195611359311892\n",
      "fold: 0  - Starting ...\n"
     ]
    },
    {
     "data": {
      "application/javascript": [
       "\n",
       "        if (window._pyforest_update_imports_cell) { window._pyforest_update_imports_cell('from sklearn.impute import SimpleImputer\\nfrom sklearn.linear_model import LogisticRegression\\nfrom sklearn.model_selection import StratifiedKFold'); }\n",
       "    "
      ],
      "text/plain": [
       "<IPython.core.display.Javascript object>"
      ]
     },
     "metadata": {},
     "output_type": "display_data"
    },
    {
     "name": "stdout",
     "output_type": "stream",
     "text": [
      "fold auc 0.8830594234473177\n",
      "Logloss:0.07176138740239742\n",
      "\n",
      "fold: 1  - Starting ...\n"
     ]
    },
    {
     "data": {
      "application/javascript": [
       "\n",
       "        if (window._pyforest_update_imports_cell) { window._pyforest_update_imports_cell('from sklearn.impute import SimpleImputer\\nfrom sklearn.linear_model import LogisticRegression\\nfrom sklearn.model_selection import StratifiedKFold'); }\n",
       "    "
      ],
      "text/plain": [
       "<IPython.core.display.Javascript object>"
      ]
     },
     "metadata": {},
     "output_type": "display_data"
    },
    {
     "name": "stdout",
     "output_type": "stream",
     "text": [
      "fold auc 0.8132972593224085\n",
      "Logloss:0.08337931645684564\n",
      "\n",
      "fold: 2  - Starting ...\n"
     ]
    },
    {
     "data": {
      "application/javascript": [
       "\n",
       "        if (window._pyforest_update_imports_cell) { window._pyforest_update_imports_cell('from sklearn.impute import SimpleImputer\\nfrom sklearn.linear_model import LogisticRegression\\nfrom sklearn.model_selection import StratifiedKFold'); }\n",
       "    "
      ],
      "text/plain": [
       "<IPython.core.display.Javascript object>"
      ]
     },
     "metadata": {},
     "output_type": "display_data"
    },
    {
     "name": "stdout",
     "output_type": "stream",
     "text": [
      "fold auc 0.8368282498184458\n",
      "Logloss:0.08453060719813127\n",
      "\n",
      "fold: 3  - Starting ...\n"
     ]
    },
    {
     "data": {
      "application/javascript": [
       "\n",
       "        if (window._pyforest_update_imports_cell) { window._pyforest_update_imports_cell('from sklearn.impute import SimpleImputer\\nfrom sklearn.linear_model import LogisticRegression\\nfrom sklearn.model_selection import StratifiedKFold'); }\n",
       "    "
      ],
      "text/plain": [
       "<IPython.core.display.Javascript object>"
      ]
     },
     "metadata": {},
     "output_type": "display_data"
    },
    {
     "name": "stdout",
     "output_type": "stream",
     "text": [
      "fold auc 0.8647086451327712\n",
      "Logloss:0.07780008333586967\n",
      "\n",
      "fold: 4  - Starting ...\n"
     ]
    },
    {
     "data": {
      "application/javascript": [
       "\n",
       "        if (window._pyforest_update_imports_cell) { window._pyforest_update_imports_cell('from sklearn.impute import SimpleImputer\\nfrom sklearn.linear_model import LogisticRegression\\nfrom sklearn.model_selection import StratifiedKFold'); }\n",
       "    "
      ],
      "text/plain": [
       "<IPython.core.display.Javascript object>"
      ]
     },
     "metadata": {},
     "output_type": "display_data"
    },
    {
     "name": "stdout",
     "output_type": "stream",
     "text": [
      "fold auc 0.8866461054644948\n",
      "Logloss:0.07227762597724703\n",
      "\n",
      "Lr Model auc with lbfgs:  ...>, 0.8882345362841384\n",
      "fold: 0  - Starting ...\n"
     ]
    },
    {
     "data": {
      "application/javascript": [
       "\n",
       "        if (window._pyforest_update_imports_cell) { window._pyforest_update_imports_cell('from sklearn.impute import SimpleImputer\\nfrom sklearn.linear_model import LogisticRegression\\nfrom sklearn.model_selection import StratifiedKFold'); }\n",
       "    "
      ],
      "text/plain": [
       "<IPython.core.display.Javascript object>"
      ]
     },
     "metadata": {},
     "output_type": "display_data"
    },
    {
     "name": "stdout",
     "output_type": "stream",
     "text": [
      "fold auc 0.887854819866755\n",
      "Logloss:0.07183179112359975\n",
      "\n",
      "fold: 1  - Starting ...\n"
     ]
    },
    {
     "data": {
      "application/javascript": [
       "\n",
       "        if (window._pyforest_update_imports_cell) { window._pyforest_update_imports_cell('from sklearn.impute import SimpleImputer\\nfrom sklearn.linear_model import LogisticRegression\\nfrom sklearn.model_selection import StratifiedKFold'); }\n",
       "    "
      ],
      "text/plain": [
       "<IPython.core.display.Javascript object>"
      ]
     },
     "metadata": {},
     "output_type": "display_data"
    },
    {
     "name": "stdout",
     "output_type": "stream",
     "text": [
      "fold auc 0.8524083546462062\n",
      "Logloss:0.07704676574813497\n",
      "\n",
      "fold: 2  - Starting ...\n"
     ]
    },
    {
     "data": {
      "application/javascript": [
       "\n",
       "        if (window._pyforest_update_imports_cell) { window._pyforest_update_imports_cell('from sklearn.impute import SimpleImputer\\nfrom sklearn.linear_model import LogisticRegression\\nfrom sklearn.model_selection import StratifiedKFold'); }\n",
       "    "
      ],
      "text/plain": [
       "<IPython.core.display.Javascript object>"
      ]
     },
     "metadata": {},
     "output_type": "display_data"
    },
    {
     "name": "stdout",
     "output_type": "stream",
     "text": [
      "fold auc 0.8696658615136876\n",
      "Logloss:0.07522151544844927\n",
      "\n",
      "fold: 3  - Starting ...\n"
     ]
    },
    {
     "data": {
      "application/javascript": [
       "\n",
       "        if (window._pyforest_update_imports_cell) { window._pyforest_update_imports_cell('from sklearn.impute import SimpleImputer\\nfrom sklearn.linear_model import LogisticRegression\\nfrom sklearn.model_selection import StratifiedKFold'); }\n",
       "    "
      ],
      "text/plain": [
       "<IPython.core.display.Javascript object>"
      ]
     },
     "metadata": {},
     "output_type": "display_data"
    },
    {
     "name": "stdout",
     "output_type": "stream",
     "text": [
      "fold auc 0.8698099207476873\n",
      "Logloss:0.07729795714225872\n",
      "\n",
      "fold: 4  - Starting ...\n"
     ]
    },
    {
     "data": {
      "application/javascript": [
       "\n",
       "        if (window._pyforest_update_imports_cell) { window._pyforest_update_imports_cell('from sklearn.impute import SimpleImputer\\nfrom sklearn.linear_model import LogisticRegression\\nfrom sklearn.model_selection import StratifiedKFold'); }\n",
       "    "
      ],
      "text/plain": [
       "<IPython.core.display.Javascript object>"
      ]
     },
     "metadata": {},
     "output_type": "display_data"
    },
    {
     "name": "stdout",
     "output_type": "stream",
     "text": [
      "fold auc 0.84280067824587\n",
      "Logloss:0.080883015322563\n",
      "\n",
      "Lr Model auc with liblinear:  ...>, 0.8803256665241062\n",
      "fold: 0  - Starting ...\n"
     ]
    },
    {
     "data": {
      "application/javascript": [
       "\n",
       "        if (window._pyforest_update_imports_cell) { window._pyforest_update_imports_cell('from sklearn.impute import SimpleImputer\\nfrom sklearn.linear_model import LogisticRegression\\nfrom sklearn.model_selection import StratifiedKFold'); }\n",
       "    "
      ],
      "text/plain": [
       "<IPython.core.display.Javascript object>"
      ]
     },
     "metadata": {},
     "output_type": "display_data"
    },
    {
     "name": "stdout",
     "output_type": "stream",
     "text": [
      "fold auc 0.6803700546241039\n",
      "Logloss:0.10355073469289938\n",
      "\n",
      "fold: 1  - Starting ...\n"
     ]
    },
    {
     "data": {
      "application/javascript": [
       "\n",
       "        if (window._pyforest_update_imports_cell) { window._pyforest_update_imports_cell('from sklearn.impute import SimpleImputer\\nfrom sklearn.linear_model import LogisticRegression\\nfrom sklearn.model_selection import StratifiedKFold'); }\n",
       "    "
      ],
      "text/plain": [
       "<IPython.core.display.Javascript object>"
      ]
     },
     "metadata": {},
     "output_type": "display_data"
    },
    {
     "name": "stdout",
     "output_type": "stream",
     "text": [
      "fold auc 0.6078312967699157\n",
      "Logloss:0.1076381092099219\n",
      "\n",
      "fold: 2  - Starting ...\n"
     ]
    },
    {
     "data": {
      "application/javascript": [
       "\n",
       "        if (window._pyforest_update_imports_cell) { window._pyforest_update_imports_cell('from sklearn.impute import SimpleImputer\\nfrom sklearn.linear_model import LogisticRegression\\nfrom sklearn.model_selection import StratifiedKFold'); }\n",
       "    "
      ],
      "text/plain": [
       "<IPython.core.display.Javascript object>"
      ]
     },
     "metadata": {},
     "output_type": "display_data"
    },
    {
     "name": "stdout",
     "output_type": "stream",
     "text": [
      "fold auc 0.5882648953301127\n",
      "Logloss:0.10848454360818645\n",
      "\n",
      "fold: 3  - Starting ...\n"
     ]
    },
    {
     "data": {
      "application/javascript": [
       "\n",
       "        if (window._pyforest_update_imports_cell) { window._pyforest_update_imports_cell('from sklearn.impute import SimpleImputer\\nfrom sklearn.linear_model import LogisticRegression\\nfrom sklearn.model_selection import StratifiedKFold'); }\n",
       "    "
      ],
      "text/plain": [
       "<IPython.core.display.Javascript object>"
      ]
     },
     "metadata": {},
     "output_type": "display_data"
    },
    {
     "name": "stdout",
     "output_type": "stream",
     "text": [
      "fold auc 0.6025760948501785\n",
      "Logloss:0.10854811862301211\n",
      "\n",
      "fold: 4  - Starting ...\n"
     ]
    },
    {
     "data": {
      "application/javascript": [
       "\n",
       "        if (window._pyforest_update_imports_cell) { window._pyforest_update_imports_cell('from sklearn.impute import SimpleImputer\\nfrom sklearn.linear_model import LogisticRegression\\nfrom sklearn.model_selection import StratifiedKFold'); }\n",
       "    "
      ],
      "text/plain": [
       "<IPython.core.display.Javascript object>"
      ]
     },
     "metadata": {},
     "output_type": "display_data"
    },
    {
     "name": "stdout",
     "output_type": "stream",
     "text": [
      "fold auc 0.578462760038254\n",
      "Logloss:0.11038083174882149\n",
      "\n",
      "Lr Model auc with sag:  ...>, 0.8131195049737079\n",
      "fold: 0  - Starting ...\n"
     ]
    },
    {
     "data": {
      "application/javascript": [
       "\n",
       "        if (window._pyforest_update_imports_cell) { window._pyforest_update_imports_cell('from sklearn.impute import SimpleImputer\\nfrom sklearn.linear_model import LogisticRegression\\nfrom sklearn.model_selection import StratifiedKFold'); }\n",
       "    "
      ],
      "text/plain": [
       "<IPython.core.display.Javascript object>"
      ]
     },
     "metadata": {},
     "output_type": "display_data"
    },
    {
     "name": "stdout",
     "output_type": "stream",
     "text": [
      "fold auc 0.6791425910138612\n",
      "Logloss:0.10363909311979137\n",
      "\n",
      "fold: 1  - Starting ...\n"
     ]
    },
    {
     "data": {
      "application/javascript": [
       "\n",
       "        if (window._pyforest_update_imports_cell) { window._pyforest_update_imports_cell('from sklearn.impute import SimpleImputer\\nfrom sklearn.linear_model import LogisticRegression\\nfrom sklearn.model_selection import StratifiedKFold'); }\n",
       "    "
      ],
      "text/plain": [
       "<IPython.core.display.Javascript object>"
      ]
     },
     "metadata": {},
     "output_type": "display_data"
    },
    {
     "name": "stdout",
     "output_type": "stream",
     "text": [
      "fold auc 0.606714344352878\n",
      "Logloss:0.10771557908255697\n",
      "\n",
      "fold: 2  - Starting ...\n"
     ]
    },
    {
     "data": {
      "application/javascript": [
       "\n",
       "        if (window._pyforest_update_imports_cell) { window._pyforest_update_imports_cell('from sklearn.impute import SimpleImputer\\nfrom sklearn.linear_model import LogisticRegression\\nfrom sklearn.model_selection import StratifiedKFold'); }\n",
       "    "
      ],
      "text/plain": [
       "<IPython.core.display.Javascript object>"
      ]
     },
     "metadata": {},
     "output_type": "display_data"
    },
    {
     "name": "stdout",
     "output_type": "stream",
     "text": [
      "fold auc 0.5870788734173218\n",
      "Logloss:0.1085614757903455\n",
      "\n",
      "fold: 3  - Starting ...\n"
     ]
    },
    {
     "data": {
      "application/javascript": [
       "\n",
       "        if (window._pyforest_update_imports_cell) { window._pyforest_update_imports_cell('from sklearn.impute import SimpleImputer\\nfrom sklearn.linear_model import LogisticRegression\\nfrom sklearn.model_selection import StratifiedKFold'); }\n",
       "    "
      ],
      "text/plain": [
       "<IPython.core.display.Javascript object>"
      ]
     },
     "metadata": {},
     "output_type": "display_data"
    },
    {
     "name": "stdout",
     "output_type": "stream",
     "text": [
      "fold auc 0.6013071895424837\n",
      "Logloss:0.10861814107521522\n",
      "\n",
      "fold: 4  - Starting ...\n"
     ]
    },
    {
     "data": {
      "application/javascript": [
       "\n",
       "        if (window._pyforest_update_imports_cell) { window._pyforest_update_imports_cell('from sklearn.impute import SimpleImputer\\nfrom sklearn.linear_model import LogisticRegression\\nfrom sklearn.model_selection import StratifiedKFold'); }\n",
       "    "
      ],
      "text/plain": [
       "<IPython.core.display.Javascript object>"
      ]
     },
     "metadata": {},
     "output_type": "display_data"
    },
    {
     "name": "stdout",
     "output_type": "stream",
     "text": [
      "fold auc 0.576964673716408\n",
      "Logloss:0.11047061662826443\n",
      "\n",
      "Lr Model auc with saga:  ...>, 0.7725439108606842\n",
      "Max score of all algorithms = 0.9195611359311892\n"
     ]
    }
   ],
   "source": [
    "from sklearn.metrics import confusion_matrix\n",
    "from sklearn.metrics import log_loss\n",
    "\n",
    "algorithm_score = []\n",
    "score_Lr = [] \n",
    "\n",
    "oof_Lr = np.zeros(len(train)) \n",
    "pred_Lr = np.zeros(len(test)) \n",
    "\n",
    "folds = StratifiedKFold(n_splits=5, shuffle=True, random_state=42) \n",
    "algorithms = ['newton-cg', 'lbfgs', 'liblinear', 'sag', 'saga']\n",
    "\n",
    "for algo in algorithms:\n",
    "    for fold_ , (train_ind, val_ind) in enumerate(folds.split(train, target)): \n",
    "        print('fold:', fold_,' - Starting ...') \n",
    "        trn_data, val_data = train.iloc[train_ind], train.iloc[val_ind] \n",
    "        y_train, y_val = target.iloc[train_ind], target.iloc[val_ind] \n",
    "\n",
    "        Lr = LogisticRegression(max_iter=4000, solver= algo, random_state=42) \n",
    "        Lr.fit(trn_data, y_train) \n",
    "        oof_Lr[val_ind] = Lr.predict_proba(val_data)[:, 1] \n",
    "        print('fold auc', roc_auc_score(y_val, oof_Lr[val_ind])) \n",
    "        score_Lr.append(roc_auc_score(y_val, oof_Lr[val_ind])) \n",
    "        pred_Lr += Lr.predict_proba(test)[:, 1]/folds.n_splits \n",
    "\n",
    "        score = log_loss(y_val, oof_Lr[val_ind])\n",
    "        print(f'Logloss:{score}\\n')\n",
    "        \n",
    "\n",
    "    print(f'Lr Model auc with {algo}:  ...>, {np.mean(score_Lr)}')\n",
    "    \n",
    "    np.save('oof_lr', oof_Lr) \n",
    "    np.save('pred_lr', pred_Lr) \n",
    "    \n",
    "    algorithm_score.append(f'Max score of all algorithms = {np.mean(score_Lr)}')\n",
    "    \n",
    "print(max(algorithm_score))\n",
    "\n"
   ]
  },
  {
   "cell_type": "code",
   "execution_count": 51,
   "id": "f7de88b6-6794-4e80-8655-cfd5f8d306b2",
   "metadata": {
    "tags": []
   },
   "outputs": [
    {
     "name": "stdout",
     "output_type": "stream",
     "text": [
      "Confusion matrix\n",
      " [[4691    0]\n",
      " [ 109    0]]\n"
     ]
    }
   ],
   "source": [
    "print('Confusion matrix\\n',confusion_matrix(y_val,Lr.predict(val_data)))"
   ]
  },
  {
   "cell_type": "markdown",
   "id": "7b90bd89-40c4-4609-9a93-9b3737fe33a1",
   "metadata": {},
   "source": [
    "#### Confusion Matrix is a table that is used in classification problems to assess where errors in the model were made. The rows represent the actual classes the outcomes should have been. While the columns represent the predictions we have made. Using this table it is easy to see which predictions are wrong."
   ]
  },
  {
   "cell_type": "code",
   "execution_count": 52,
   "id": "c1405a93-77f7-4220-8ec9-8f57c38a9e2a",
   "metadata": {},
   "outputs": [
    {
     "data": {
      "image/png": "[encoded data removed]",
      "text/plain": [
       "<Figure size 432x288 with 2 Axes>"
      ]
     },
     "metadata": {
      "needs_background": "light"
     },
     "output_type": "display_data"
    },
    {
     "name": "stdout",
     "output_type": "stream",
     "text": [
      "accuracy = 0.9772916666666667,\n",
      "recall = 0.0,\n",
      "precision = nan,\n",
      "f1-score = nan\n"
     ]
    }
   ],
   "source": [
    "predictions = Lr.predict(val_data)\n",
    "\n",
    "#  confusion matrix\n",
    "cm = confusion_matrix(y_val, predictions, labels=[0, 1])\n",
    "cm_displ = ConfusionMatrixDisplay(cm)\n",
    "cm_displ.plot()\n",
    "plt.show()\n",
    "\n",
    "#  calculate accuracy:\n",
    "accuracy = np.mean(predictions==y_val)\n",
    "recall = cm[1, 1]/cm[1, :].sum() # of the total actual positives, how much were classified correctly\n",
    "precision = cm[1, 1]/cm[:, 1].sum() # of all predicted positives, how much were True positives\n",
    "f1 = 2 * ((recall * precision)/(recall + precision)) \n",
    "print(f\"accuracy = {accuracy},\\nrecall = {recall},\\nprecision = {precision},\\nf1-score = {f1}\")"
   ]
  },
  {
   "cell_type": "markdown",
   "id": "9770e040-daad-4ed9-bc53-c7c54186b159",
   "metadata": {},
   "source": [
    "#### Here is like just the part before, but with one difference. It is the Class Weight!"
   ]
  },
  {
   "cell_type": "code",
   "execution_count": 123,
   "id": "25a08ee2-4b95-46df-81e4-28af31ef688a",
   "metadata": {},
   "outputs": [
    {
     "data": {
      "application/javascript": [
       "\n",
       "        if (window._pyforest_update_imports_cell) { window._pyforest_update_imports_cell('from sklearn.impute import SimpleImputer\\nfrom sklearn.linear_model import LogisticRegression\\nfrom sklearn.model_selection import StratifiedKFold'); }\n",
       "    "
      ],
      "text/plain": [
       "<IPython.core.display.Javascript object>"
      ]
     },
     "metadata": {},
     "output_type": "display_data"
    },
    {
     "name": "stdout",
     "output_type": "stream",
     "text": [
      "fold: 0  - Starting ...\n"
     ]
    },
    {
     "data": {
      "application/javascript": [
       "\n",
       "        if (window._pyforest_update_imports_cell) { window._pyforest_update_imports_cell('from sklearn.impute import SimpleImputer\\nfrom sklearn.linear_model import LogisticRegression\\nfrom sklearn.model_selection import StratifiedKFold'); }\n",
       "    "
      ],
      "text/plain": [
       "<IPython.core.display.Javascript object>"
      ]
     },
     "metadata": {},
     "output_type": "display_data"
    },
    {
     "name": "stdout",
     "output_type": "stream",
     "text": [
      "fold auc 0.9407324524012504\n",
      "Logloss:0.11700538674523228\n",
      "\n",
      "fold: 1  - Starting ...\n"
     ]
    },
    {
     "data": {
      "application/javascript": [
       "\n",
       "        if (window._pyforest_update_imports_cell) { window._pyforest_update_imports_cell('from sklearn.impute import SimpleImputer\\nfrom sklearn.linear_model import LogisticRegression\\nfrom sklearn.model_selection import StratifiedKFold'); }\n",
       "    "
      ],
      "text/plain": [
       "<IPython.core.display.Javascript object>"
      ]
     },
     "metadata": {},
     "output_type": "display_data"
    },
    {
     "name": "stdout",
     "output_type": "stream",
     "text": [
      "fold auc 0.9130020365634176\n",
      "Logloss:0.12509705932253476\n",
      "\n",
      "fold: 2  - Starting ...\n"
     ]
    },
    {
     "data": {
      "application/javascript": [
       "\n",
       "        if (window._pyforest_update_imports_cell) { window._pyforest_update_imports_cell('from sklearn.impute import SimpleImputer\\nfrom sklearn.linear_model import LogisticRegression\\nfrom sklearn.model_selection import StratifiedKFold'); }\n",
       "    "
      ],
      "text/plain": [
       "<IPython.core.display.Javascript object>"
      ]
     },
     "metadata": {},
     "output_type": "display_data"
    },
    {
     "name": "stdout",
     "output_type": "stream",
     "text": [
      "fold auc 0.8998748855419785\n",
      "Logloss:0.12743731582989776\n",
      "\n",
      "fold: 3  - Starting ...\n"
     ]
    },
    {
     "data": {
      "application/javascript": [
       "\n",
       "        if (window._pyforest_update_imports_cell) { window._pyforest_update_imports_cell('from sklearn.impute import SimpleImputer\\nfrom sklearn.linear_model import LogisticRegression\\nfrom sklearn.model_selection import StratifiedKFold'); }\n",
       "    "
      ],
      "text/plain": [
       "<IPython.core.display.Javascript object>"
      ]
     },
     "metadata": {},
     "output_type": "display_data"
    },
    {
     "name": "stdout",
     "output_type": "stream",
     "text": [
      "fold auc 0.8969581794070285\n",
      "Logloss:0.13074777324058984\n",
      "\n",
      "fold: 4  - Starting ...\n"
     ]
    },
    {
     "data": {
      "application/javascript": [
       "\n",
       "        if (window._pyforest_update_imports_cell) { window._pyforest_update_imports_cell('from sklearn.impute import SimpleImputer\\nfrom sklearn.linear_model import LogisticRegression\\nfrom sklearn.model_selection import StratifiedKFold'); }\n",
       "    "
      ],
      "text/plain": [
       "<IPython.core.display.Javascript object>"
      ]
     },
     "metadata": {},
     "output_type": "display_data"
    },
    {
     "name": "stdout",
     "output_type": "stream",
     "text": [
      "fold auc 0.9356761630215189\n",
      "Logloss:0.11868165191256741\n",
      "\n",
      "Lr Model auc with newton-cg:  ...>, 0.9172487433870387 \n",
      "\n",
      "fold: 0  - Starting ...\n"
     ]
    },
    {
     "data": {
      "application/javascript": [
       "\n",
       "        if (window._pyforest_update_imports_cell) { window._pyforest_update_imports_cell('from sklearn.impute import SimpleImputer\\nfrom sklearn.linear_model import LogisticRegression\\nfrom sklearn.model_selection import StratifiedKFold'); }\n",
       "    "
      ],
      "text/plain": [
       "<IPython.core.display.Javascript object>"
      ]
     },
     "metadata": {},
     "output_type": "display_data"
    },
    {
     "name": "stdout",
     "output_type": "stream",
     "text": [
      "fold auc 0.6747201698714914\n",
      "Logloss:0.1686745968328875\n",
      "\n",
      "fold: 1  - Starting ...\n"
     ]
    },
    {
     "data": {
      "application/javascript": [
       "\n",
       "        if (window._pyforest_update_imports_cell) { window._pyforest_update_imports_cell('from sklearn.impute import SimpleImputer\\nfrom sklearn.linear_model import LogisticRegression\\nfrom sklearn.model_selection import StratifiedKFold'); }\n",
       "    "
      ],
      "text/plain": [
       "<IPython.core.display.Javascript object>"
      ]
     },
     "metadata": {},
     "output_type": "display_data"
    },
    {
     "name": "stdout",
     "output_type": "stream",
     "text": [
      "fold auc 0.7357776041173313\n",
      "Logloss:0.15440111782613472\n",
      "\n",
      "fold: 2  - Starting ...\n"
     ]
    },
    {
     "data": {
      "application/javascript": [
       "\n",
       "        if (window._pyforest_update_imports_cell) { window._pyforest_update_imports_cell('from sklearn.impute import SimpleImputer\\nfrom sklearn.linear_model import LogisticRegression\\nfrom sklearn.model_selection import StratifiedKFold'); }\n",
       "    "
      ],
      "text/plain": [
       "<IPython.core.display.Javascript object>"
      ]
     },
     "metadata": {},
     "output_type": "display_data"
    },
    {
     "name": "stdout",
     "output_type": "stream",
     "text": [
      "fold auc 0.5847088030059044\n",
      "Logloss:0.18142050260015238\n",
      "\n",
      "fold: 3  - Starting ...\n"
     ]
    },
    {
     "data": {
      "application/javascript": [
       "\n",
       "        if (window._pyforest_update_imports_cell) { window._pyforest_update_imports_cell('from sklearn.impute import SimpleImputer\\nfrom sklearn.linear_model import LogisticRegression\\nfrom sklearn.model_selection import StratifiedKFold'); }\n",
       "    "
      ],
      "text/plain": [
       "<IPython.core.display.Javascript object>"
      ]
     },
     "metadata": {},
     "output_type": "display_data"
    },
    {
     "name": "stdout",
     "output_type": "stream",
     "text": [
      "fold auc 0.7546000284171639\n",
      "Logloss:0.15196282680683665\n",
      "\n",
      "fold: 4  - Starting ...\n"
     ]
    },
    {
     "data": {
      "application/javascript": [
       "\n",
       "        if (window._pyforest_update_imports_cell) { window._pyforest_update_imports_cell('from sklearn.impute import SimpleImputer\\nfrom sklearn.linear_model import LogisticRegression\\nfrom sklearn.model_selection import StratifiedKFold'); }\n",
       "    "
      ],
      "text/plain": [
       "<IPython.core.display.Javascript object>"
      ]
     },
     "metadata": {},
     "output_type": "display_data"
    },
    {
     "name": "stdout",
     "output_type": "stream",
     "text": [
      "fold auc 0.7882085351805821\n",
      "Logloss:0.1490815633539656\n",
      "\n",
      "Lr Model auc with lbfgs:  ...>, 0.8124258857527666 \n",
      "\n",
      "fold: 0  - Starting ...\n"
     ]
    },
    {
     "data": {
      "application/javascript": [
       "\n",
       "        if (window._pyforest_update_imports_cell) { window._pyforest_update_imports_cell('from sklearn.impute import SimpleImputer\\nfrom sklearn.linear_model import LogisticRegression\\nfrom sklearn.model_selection import StratifiedKFold'); }\n",
       "    "
      ],
      "text/plain": [
       "<IPython.core.display.Javascript object>"
      ]
     },
     "metadata": {},
     "output_type": "display_data"
    },
    {
     "name": "stdout",
     "output_type": "stream",
     "text": [
      "fold auc 0.6747221432856556\n",
      "Logloss:0.1686653240311114\n",
      "\n",
      "fold: 1  - Starting ...\n"
     ]
    },
    {
     "data": {
      "application/javascript": [
       "\n",
       "        if (window._pyforest_update_imports_cell) { window._pyforest_update_imports_cell('from sklearn.impute import SimpleImputer\\nfrom sklearn.linear_model import LogisticRegression\\nfrom sklearn.model_selection import StratifiedKFold'); }\n",
       "    "
      ],
      "text/plain": [
       "<IPython.core.display.Javascript object>"
      ]
     },
     "metadata": {},
     "output_type": "display_data"
    },
    {
     "name": "stdout",
     "output_type": "stream",
     "text": [
      "fold auc 0.5945995547977645\n",
      "Logloss:0.17893766568636543\n",
      "\n",
      "fold: 2  - Starting ...\n"
     ]
    },
    {
     "data": {
      "application/javascript": [
       "\n",
       "        if (window._pyforest_update_imports_cell) { window._pyforest_update_imports_cell('from sklearn.impute import SimpleImputer\\nfrom sklearn.linear_model import LogisticRegression\\nfrom sklearn.model_selection import StratifiedKFold'); }\n",
       "    "
      ],
      "text/plain": [
       "<IPython.core.display.Javascript object>"
      ]
     },
     "metadata": {},
     "output_type": "display_data"
    },
    {
     "name": "stdout",
     "output_type": "stream",
     "text": [
      "fold auc 0.5847324839758771\n",
      "Logloss:0.18142351264296583\n",
      "\n",
      "fold: 3  - Starting ...\n"
     ]
    },
    {
     "data": {
      "application/javascript": [
       "\n",
       "        if (window._pyforest_update_imports_cell) { window._pyforest_update_imports_cell('from sklearn.impute import SimpleImputer\\nfrom sklearn.linear_model import LogisticRegression\\nfrom sklearn.model_selection import StratifiedKFold'); }\n",
       "    "
      ],
      "text/plain": [
       "<IPython.core.display.Javascript object>"
      ]
     },
     "metadata": {},
     "output_type": "display_data"
    },
    {
     "name": "stdout",
     "output_type": "stream",
     "text": [
      "fold auc 0.5984260048624925\n",
      "Logloss:0.18078404816357546\n",
      "\n",
      "fold: 4  - Starting ...\n"
     ]
    },
    {
     "data": {
      "application/javascript": [
       "\n",
       "        if (window._pyforest_update_imports_cell) { window._pyforest_update_imports_cell('from sklearn.impute import SimpleImputer\\nfrom sklearn.linear_model import LogisticRegression\\nfrom sklearn.model_selection import StratifiedKFold'); }\n",
       "    "
      ],
      "text/plain": [
       "<IPython.core.display.Javascript object>"
      ]
     },
     "metadata": {},
     "output_type": "display_data"
    },
    {
     "name": "stdout",
     "output_type": "stream",
     "text": [
      "fold auc 0.5787189601794575\n",
      "Logloss:0.184136352056374\n",
      "\n",
      "Lr Model auc with liblinear:  ...>, 0.7436972003085942 \n",
      "\n",
      "fold: 0  - Starting ...\n"
     ]
    },
    {
     "data": {
      "application/javascript": [
       "\n",
       "        if (window._pyforest_update_imports_cell) { window._pyforest_update_imports_cell('from sklearn.impute import SimpleImputer\\nfrom sklearn.linear_model import LogisticRegression\\nfrom sklearn.model_selection import StratifiedKFold'); }\n",
       "    "
      ],
      "text/plain": [
       "<IPython.core.display.Javascript object>"
      ]
     },
     "metadata": {},
     "output_type": "display_data"
    },
    {
     "name": "stdout",
     "output_type": "stream",
     "text": [
      "fold auc 0.674368902150232\n",
      "Logloss:0.16830175715463985\n",
      "\n",
      "fold: 1  - Starting ...\n"
     ]
    },
    {
     "data": {
      "application/javascript": [
       "\n",
       "        if (window._pyforest_update_imports_cell) { window._pyforest_update_imports_cell('from sklearn.impute import SimpleImputer\\nfrom sklearn.linear_model import LogisticRegression\\nfrom sklearn.model_selection import StratifiedKFold'); }\n",
       "    "
      ],
      "text/plain": [
       "<IPython.core.display.Javascript object>"
      ]
     },
     "metadata": {},
     "output_type": "display_data"
    },
    {
     "name": "stdout",
     "output_type": "stream",
     "text": [
      "fold auc 0.5942009251365603\n",
      "Logloss:0.1786410963635762\n",
      "\n",
      "fold: 2  - Starting ...\n"
     ]
    },
    {
     "data": {
      "application/javascript": [
       "\n",
       "        if (window._pyforest_update_imports_cell) { window._pyforest_update_imports_cell('from sklearn.impute import SimpleImputer\\nfrom sklearn.linear_model import LogisticRegression\\nfrom sklearn.model_selection import StratifiedKFold'); }\n",
       "    "
      ],
      "text/plain": [
       "<IPython.core.display.Javascript object>"
      ]
     },
     "metadata": {},
     "output_type": "display_data"
    },
    {
     "name": "stdout",
     "output_type": "stream",
     "text": [
      "fold auc 0.5835464620630861\n",
      "Logloss:0.18114277310518684\n",
      "\n",
      "fold: 3  - Starting ...\n"
     ]
    },
    {
     "data": {
      "application/javascript": [
       "\n",
       "        if (window._pyforest_update_imports_cell) { window._pyforest_update_imports_cell('from sklearn.impute import SimpleImputer\\nfrom sklearn.linear_model import LogisticRegression\\nfrom sklearn.model_selection import StratifiedKFold'); }\n",
       "    "
      ],
      "text/plain": [
       "<IPython.core.display.Javascript object>"
      ]
     },
     "metadata": {},
     "output_type": "display_data"
    },
    {
     "name": "stdout",
     "output_type": "stream",
     "text": [
      "fold auc 0.5978852893814532\n",
      "Logloss:0.18040783703293034\n",
      "\n",
      "fold: 4  - Starting ...\n"
     ]
    },
    {
     "data": {
      "application/javascript": [
       "\n",
       "        if (window._pyforest_update_imports_cell) { window._pyforest_update_imports_cell('from sklearn.impute import SimpleImputer\\nfrom sklearn.linear_model import LogisticRegression\\nfrom sklearn.model_selection import StratifiedKFold'); }\n",
       "    "
      ],
      "text/plain": [
       "<IPython.core.display.Javascript object>"
      ]
     },
     "metadata": {},
     "output_type": "display_data"
    },
    {
     "name": "stdout",
     "output_type": "stream",
     "text": [
      "fold auc 0.5781381094776451\n",
      "Logloss:0.18375283428661107\n",
      "\n",
      "Lr Model auc with sag:  ...>, 0.7091798846418946 \n",
      "\n",
      "fold: 0  - Starting ...\n"
     ]
    },
    {
     "data": {
      "application/javascript": [
       "\n",
       "        if (window._pyforest_update_imports_cell) { window._pyforest_update_imports_cell('from sklearn.impute import SimpleImputer\\nfrom sklearn.linear_model import LogisticRegression\\nfrom sklearn.model_selection import StratifiedKFold'); }\n",
       "    "
      ],
      "text/plain": [
       "<IPython.core.display.Javascript object>"
      ]
     },
     "metadata": {},
     "output_type": "display_data"
    },
    {
     "name": "stdout",
     "output_type": "stream",
     "text": [
      "fold auc 0.673950538347384\n",
      "Logloss:0.1679386746665889\n",
      "\n",
      "fold: 1  - Starting ...\n"
     ]
    },
    {
     "data": {
      "application/javascript": [
       "\n",
       "        if (window._pyforest_update_imports_cell) { window._pyforest_update_imports_cell('from sklearn.impute import SimpleImputer\\nfrom sklearn.linear_model import LogisticRegression\\nfrom sklearn.model_selection import StratifiedKFold'); }\n",
       "    "
      ],
      "text/plain": [
       "<IPython.core.display.Javascript object>"
      ]
     },
     "metadata": {},
     "output_type": "display_data"
    },
    {
     "name": "stdout",
     "output_type": "stream",
     "text": [
      "fold auc 0.5936365286855483\n",
      "Logloss:0.17833868282797918\n",
      "\n",
      "fold: 2  - Starting ...\n"
     ]
    },
    {
     "data": {
      "application/javascript": [
       "\n",
       "        if (window._pyforest_update_imports_cell) { window._pyforest_update_imports_cell('from sklearn.impute import SimpleImputer\\nfrom sklearn.linear_model import LogisticRegression\\nfrom sklearn.model_selection import StratifiedKFold'); }\n",
       "    "
      ],
      "text/plain": [
       "<IPython.core.display.Javascript object>"
      ]
     },
     "metadata": {},
     "output_type": "display_data"
    },
    {
     "name": "stdout",
     "output_type": "stream",
     "text": [
      "fold auc 0.5823860945344321\n",
      "Logloss:0.18087355794030338\n",
      "\n",
      "fold: 3  - Starting ...\n"
     ]
    },
    {
     "data": {
      "application/javascript": [
       "\n",
       "        if (window._pyforest_update_imports_cell) { window._pyforest_update_imports_cell('from sklearn.impute import SimpleImputer\\nfrom sklearn.linear_model import LogisticRegression\\nfrom sklearn.model_selection import StratifiedKFold'); }\n",
       "    "
      ],
      "text/plain": [
       "<IPython.core.display.Javascript object>"
      ]
     },
     "metadata": {},
     "output_type": "display_data"
    },
    {
     "name": "stdout",
     "output_type": "stream",
     "text": [
      "fold auc 0.5971511793123045\n",
      "Logloss:0.18003571221982403\n",
      "\n",
      "fold: 4  - Starting ...\n"
     ]
    },
    {
     "data": {
      "application/javascript": [
       "\n",
       "        if (window._pyforest_update_imports_cell) { window._pyforest_update_imports_cell('from sklearn.impute import SimpleImputer\\nfrom sklearn.linear_model import LogisticRegression\\nfrom sklearn.model_selection import StratifiedKFold'); }\n",
       "    "
      ],
      "text/plain": [
       "<IPython.core.display.Javascript object>"
      ]
     },
     "metadata": {},
     "output_type": "display_data"
    },
    {
     "name": "stdout",
     "output_type": "stream",
     "text": [
      "fold auc 0.5776139748376259\n",
      "Logloss:0.1833804200646866\n",
      "\n",
      "Lr Model auc with saga:  ...>, 0.6883334403422074 \n",
      "\n",
      "Max score of all algorithms = 0.9172487433870387\n"
     ]
    }
   ],
   "source": [
    "algorithm_score = []\n",
    "score_Lr = [] \n",
    "\n",
    "oof_Lr = np.zeros(len(train)) \n",
    "pred_Lr = np.zeros(len(test)) \n",
    "\n",
    "folds = StratifiedKFold(n_splits=5, shuffle=True, random_state=42) \n",
    "algorithms = ['newton-cg', 'lbfgs', 'liblinear', 'sag', 'saga']\n",
    "\n",
    "for algo in algorithms:\n",
    "    for fold_ , (train_ind, val_ind) in enumerate(folds.split(train, target)): \n",
    "        print('fold:', fold_,' - Starting ...') \n",
    "        trn_data, val_data = train.iloc[train_ind], train.iloc[val_ind] \n",
    "        y_train, y_val = target.iloc[train_ind], target.iloc[val_ind] \n",
    "\n",
    "        lr_model_weighted = LogisticRegression(max_iter=4000, solver= algo, random_state=42, class_weight=w) \n",
    "        lr_model_weighted.fit(trn_data, y_train) \n",
    "        oof_Lr[val_ind] = lr_model_weighted.predict_proba(val_data)[:, 1] \n",
    "        print('fold auc', roc_auc_score(y_val, oof_Lr[val_ind])) \n",
    "        score_Lr.append(roc_auc_score(y_val, oof_Lr[val_ind])) \n",
    "        pred_Lr += lr_model_weighted.predict_proba(test)[:, 1]/folds.n_splits\n",
    "        \n",
    "        score = log_loss(y_val, oof_Lr[val_ind])\n",
    "        print(f'Logloss:{score}\\n')\n",
    "        \n",
    "\n",
    "    print(f'Lr Model auc with {algo}:  ...>, {np.mean(score_Lr)} \\n')\n",
    "    \n",
    "    np.save('oof_lr', oof_Lr) \n",
    "    np.save('pred_lr', pred_Lr) \n",
    "    \n",
    "    algorithm_score.append(f'Max score of all algorithms = {np.mean(score_Lr)}')\n",
    "    \n",
    "print(max(algorithm_score))"
   ]
  },
  {
   "cell_type": "code",
   "execution_count": 54,
   "id": "082b0eb3-be47-4ae7-ac99-d094a2ecffa1",
   "metadata": {},
   "outputs": [
    {
     "name": "stdout",
     "output_type": "stream",
     "text": [
      "Confusion matrix\n",
      " [[4691    0]\n",
      " [ 109    0]]\n"
     ]
    }
   ],
   "source": [
    "print('Confusion matrix\\n',confusion_matrix(y_val,lr_model_weighted.predict(val_data)))"
   ]
  },
  {
   "cell_type": "code",
   "execution_count": 55,
   "id": "d0f31571-efde-4e0d-8b61-be14d05e9925",
   "metadata": {},
   "outputs": [
    {
     "data": {
      "image/png": "[encoded data removed]",
      "text/plain": [
       "<Figure size 432x288 with 2 Axes>"
      ]
     },
     "metadata": {
      "needs_background": "light"
     },
     "output_type": "display_data"
    },
    {
     "name": "stdout",
     "output_type": "stream",
     "text": [
      "accuracy = 0.9772916666666667,\n",
      "recall = 0.0,\n",
      "precision = nan,\n",
      "f1-score = nan\n"
     ]
    }
   ],
   "source": [
    "predictions = lr_model_weighted.predict(val_data)\n",
    "\n",
    "#  confusion matrix\n",
    "cm = confusion_matrix(y_val, predictions, labels=[0, 1])\n",
    "cm_displ = ConfusionMatrixDisplay(cm)\n",
    "cm_displ.plot()\n",
    "plt.show()\n",
    "\n",
    "#  calculate accuracy:\n",
    "accuracy = np.mean(predictions==y_val)\n",
    "recall = cm[1, 1]/cm[1, :].sum() # of the total actual positives, how much were classified correctly\n",
    "precision = cm[1, 1]/cm[:, 1].sum() # of all predicted positives, how much were True positives\n",
    "f1 = 2 * ((recall * precision)/(recall + precision)) \n",
    "print(f\"accuracy = {accuracy},\\nrecall = {recall},\\nprecision = {precision},\\nf1-score = {f1}\")"
   ]
  },
  {
   "cell_type": "code",
   "execution_count": 56,
   "id": "4cad88ae-fa62-469b-9fd5-c66c614c6c43",
   "metadata": {},
   "outputs": [
    {
     "data": {
      "text/plain": [
       "Text(0.5, 0, 'False positive rate')"
      ]
     },
     "execution_count": 56,
     "metadata": {},
     "output_type": "execute_result"
    },
    {
     "data": {
      "image/png": "[encoded data removed]",
      "text/plain": [
       "<Figure size 1008x576 with 1 Axes>"
      ]
     },
     "metadata": {
      "needs_background": "light"
     },
     "output_type": "display_data"
    }
   ],
   "source": [
    "proba = lr_model_weighted.predict_proba(val_data)[:,1]\n",
    "frp,trp, threshold = roc_curve(y_val,proba)\n",
    "roc_auc_ = auc(frp,trp)\n",
    "\n",
    "plt.figure(figsize=(14,8))\n",
    "plt.title('Reciever Operating Characteristics')\n",
    "plt.plot(frp,trp,'r',label = 'AUC = %0.2f' % roc_auc_)\n",
    "plt.legend(loc='lower right')\n",
    "plt.plot([0,1],[0,1],'b--')\n",
    "plt.ylabel('True positive rate')\n",
    "plt.xlabel('False positive rate')"
   ]
  },
  {
   "cell_type": "markdown",
   "id": "2c689282-ab77-4fc1-b16f-f9508d581332",
   "metadata": {},
   "source": [
    "#### As can be seen, the results obtained from the previous two methods have given almost the same results in the existing dataset. It means that Max score of all algorithms with or without class weight parameter, has actully no difference here. And finally we have a good model according to the scores!"
   ]
  }
 ],
 "metadata": {
  "kernelspec": {
   "display_name": "Python 3 (ipykernel)",
   "language": "python",
   "name": "python3"
  },
  "language_info": {
   "codemirror_mode": {
    "name": "ipython",
    "version": 3
   },
   "file_extension": ".py",
   "mimetype": "text/x-python",
   "name": "python",
   "nbconvert_exporter": "python",
   "pygments_lexer": "ipython3",
   "version": "3.8.0"
  }
 },
 "nbformat": 4,
 "nbformat_minor": 5
}
